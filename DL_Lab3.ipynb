{
  "nbformat": 4,
  "nbformat_minor": 0,
  "metadata": {
    "accelerator": "GPU",
    "colab": {
      "name": "DL_Lab3.ipynb",
      "provenance": [],
      "collapsed_sections": [],
      "include_colab_link": true
    },
    "kernelspec": {
      "name": "python3",
      "display_name": "Python 3"
    },
    "language_info": {
      "codemirror_mode": {
        "name": "ipython",
        "version": 3
      },
      "file_extension": ".py",
      "mimetype": "text/x-python",
      "name": "python",
      "nbconvert_exporter": "python",
      "pygments_lexer": "ipython3",
      "version": "3.6.3"
    },
    "pycharm": {
      "stem_cell": {
        "cell_type": "raw",
        "metadata": {
          "collapsed": false
        },
        "source": []
      }
    }
  },
  "cells": [
    {
      "cell_type": "markdown",
      "metadata": {
        "id": "view-in-github",
        "colab_type": "text"
      },
      "source": [
        "<a href=\"https://colab.research.google.com/github/mhask94/cs474_labs_f2019/blob/master/DL_Lab3.ipynb\" target=\"_parent\"><img src=\"https://colab.research.google.com/assets/colab-badge.svg\" alt=\"Open In Colab\"/></a>"
      ]
    },
    {
      "cell_type": "markdown",
      "metadata": {
        "id": "jt3uJD-C09Ki",
        "colab_type": "text"
      },
      "source": [
        "<a href=\"https://colab.research.google.com/github/wingated/cs474_labs_f2019/blob/master/DL_Lab3.ipynb\" target=\"_parent\"><img src=\"https://colab.research.google.com/assets/colab-badge.svg\" alt=\"Open In Colab\"/></a>"
      ]
    },
    {
      "cell_type": "markdown",
      "metadata": {
        "colab_type": "text",
        "id": "view-in-github"
      },
      "source": [
        "# Lab 3: Intro to CNNs and DNNs\n",
        "\n",
        "## Objectives\n",
        "\n",
        "* Build and train a deep conv net\n",
        "* Explore and implement various initialization techniques\n",
        "* Implement a parameterized module in Pytorch\n",
        "* Use a principled loss function\n",
        "\n",
        "## Video Tutorial\n",
        "[https://youtu.be/3TAuTcx-VCc](https://youtu.be/3TAuTcx-VCc)\n",
        "\n",
        "## Deliverable\n",
        "For this lab, you will submit an ipython notebook via learningsuite.\n",
        "This is where you build your first deep neural network!\n",
        "\n",
        "For this lab, we'll be combining several different concepts that we've covered during class,\n",
        "including new layer types, initialization strategies, and an understanding of convolutions.\n",
        "\n",
        "## Grading Standards:\n",
        "* 30% Part 0: Successfully followed lab video and typed in code\n",
        "* 20% Part 1: Re-implement Conv2D and CrossEntropy loss function\n",
        "* 20% Part 2: Implement different initialization strategies\n",
        "* 10% Part 3: Print parameters, plot train/test accuracy\n",
        "* 10% Part 4: Convolution parameters quiz\n",
        "* 10% Tidy and legible figures, including labeled axes where appropriate\n",
        "___\n",
        "\n",
        "### Part 0\n",
        "Watch and follow video tutorial:\n",
        "\n",
        "[https://youtu.be/3TAuTcx-VCc](https://youtu.be/3TAuTcx-VCc)\n",
        "\n",
        "**TODO:**\n",
        "\n",
        "**DONE:**\n",
        "* Watch tutorial"
      ]
    },
    {
      "cell_type": "code",
      "metadata": {
        "pycharm": {
          "name": "#%%\n"
        },
        "id": "1c9zh6mc09Kl",
        "colab_type": "code",
        "outputId": "142ec32e-f614-4d4b-d0ff-05e1ba2a1e80",
        "colab": {
          "base_uri": "https://localhost:8080/",
          "height": 170
        }
      },
      "source": [
        "!pip3 install torch\n",
        "!pip3 install torchvision\n",
        "!pip3 install tqdm"
      ],
      "execution_count": 1,
      "outputs": [
        {
          "output_type": "stream",
          "text": [
            "Requirement already satisfied: torch in /usr/local/lib/python3.6/dist-packages (1.1.0)\n",
            "Requirement already satisfied: numpy in /usr/local/lib/python3.6/dist-packages (from torch) (1.16.5)\n",
            "Requirement already satisfied: torchvision in /usr/local/lib/python3.6/dist-packages (0.3.0)\n",
            "Requirement already satisfied: six in /usr/local/lib/python3.6/dist-packages (from torchvision) (1.12.0)\n",
            "Requirement already satisfied: numpy in /usr/local/lib/python3.6/dist-packages (from torchvision) (1.16.5)\n",
            "Requirement already satisfied: torch>=1.1.0 in /usr/local/lib/python3.6/dist-packages (from torchvision) (1.1.0)\n",
            "Requirement already satisfied: pillow>=4.1.1 in /usr/local/lib/python3.6/dist-packages (from torchvision) (4.3.0)\n",
            "Requirement already satisfied: olefile in /usr/local/lib/python3.6/dist-packages (from pillow>=4.1.1->torchvision) (0.46)\n",
            "Requirement already satisfied: tqdm in /usr/local/lib/python3.6/dist-packages (4.28.1)\n"
          ],
          "name": "stdout"
        }
      ]
    },
    {
      "cell_type": "markdown",
      "metadata": {
        "id": "Ra1ZRvIi09Kp",
        "colab_type": "text"
      },
      "source": [
        ""
      ]
    },
    {
      "cell_type": "code",
      "metadata": {
        "colab_type": "code",
        "id": "wQOefmcZVgTl",
        "colab": {}
      },
      "source": [
        "import torch\n",
        "import torch.nn as nn\n",
        "import torch.nn.functional as F\n",
        "import torch.optim as optim\n",
        "from torch.utils.data import Dataset, DataLoader\n",
        "import numpy as np\n",
        "import matplotlib.pyplot as plt\n",
        "from torchvision import transforms, utils, datasets\n",
        "from tqdm import tqdm\n",
        "from torch.nn.parameter import Parameter\n",
        "import pdb\n",
        "\n",
        "assert torch.cuda.is_available(), \"You need to request a GPU from Runtime > Change Runtime\""
      ],
      "execution_count": 0,
      "outputs": []
    },
    {
      "cell_type": "code",
      "metadata": {
        "colab_type": "code",
        "id": "Il_53HLSWPTY",
        "colab": {}
      },
      "source": [
        "from torch.nn.parameter import Parameter\n",
        "import pdb\n",
        "\n",
        "# Use the dataset class you created in lab2\n",
        "class FashionMNISTProcessedDataset(Dataset):\n",
        "  def __init__(self, root, train=True):\n",
        "    self.data = datasets.FashionMNIST(root,\n",
        "                                     train=train,\n",
        "                                     transform=transforms.ToTensor(),\n",
        "                                     download=True)\n",
        "    \n",
        "  def __getitem__(self, i):\n",
        "    x, y = self.data[i]\n",
        "    return x, y\n",
        "      \n",
        "  def __len__(self):\n",
        "    return len(self.data)"
      ],
      "execution_count": 0,
      "outputs": []
    },
    {
      "cell_type": "markdown",
      "metadata": {
        "colab_type": "text",
        "id": "QY4owfQwm-Ni"
      },
      "source": [
        "___\n",
        "\n",
        "### Part 1\n",
        "Re-implement a Conv2D module with parameters and a CrossEntropy loss function.\n",
        "\n",
        "**TODO:**\n",
        "\n",
        "**DONE:**\n",
        "* CrossEntropyLoss \n",
        "* Conv2D\n",
        "___\n",
        "\n",
        "### Part 2\n",
        "Implement a few initialization strategies which can include Xe initialization\n",
        "(sometimes called Xavier), Orthogonal initialization, and uniform random.\n",
        "You can specify which strategy you want to use with a parameter. \n",
        "\n",
        "\n",
        "\n",
        "Helpful links include:\n",
        "*  [Orthogonal Initialization](https://hjweide.github.io/orthogonal-initialization-in-convolutional-layers) (or the original paper: http://arxiv.org/abs/1312.6120)\n",
        "*  http://andyljones.tumblr.com/post/110998971763/an-explanation-of-xavier-initialization\n",
        "\n",
        "**TODO:**\n",
        "\n",
        "**DONE:**\n",
        "* Parameterize custom Conv2D for different initilization strategies\n",
        "* Xe\n",
        "* Orthogonal\n",
        "* Uniform\n"
      ]
    },
    {
      "cell_type": "code",
      "metadata": {
        "colab_type": "code",
        "id": "RkieTbwlYWPS",
        "colab": {}
      },
      "source": [
        "class CrossEntropyLoss(nn.Module):\n",
        "  def __init__(self, weight=None, size_average=None, ignore_index=100, \n",
        "               reduce=None, reduction='mean'):\n",
        "    super(CrossEntropyLoss, self).__init__()\n",
        "    \n",
        "  def forward(self, y_hat, y_truth):\n",
        "    wrong_class_penalty = torch.log(torch.sum(torch.exp(y_hat), dim=1))\n",
        "#     pdb.set_trace()\n",
        "    n, classes = y_hat.size()\n",
        "    x_class = torch.zeros((n, classes))\n",
        "    x_class[np.arange(n), y_truth] = 1\n",
        "    true_class_preds = torch.sum(y_hat * x_class.cuda(), dim=1)\n",
        "    return torch.mean(-true_class_preds + wrong_class_penalty)\n",
        "\n",
        "class Conv2d(nn.Module):\n",
        "  def __init__(self, n_channels, out_channels, kernel_size, stride=1,\n",
        "               padding=0, dilation=1, groups=1, bias=True, init_type='xavier'):\n",
        "    self.__dict__.update(locals())\n",
        "    super(Conv2d, self).__init__()\n",
        "    \n",
        "    shape = (out_channels,n_channels,*kernel_size)\n",
        "    self.weight = Parameter(torch.Tensor(*shape))\n",
        "    self.bias = Parameter(torch.Tensor(out_channels))\n",
        "    \n",
        "    self.bias.data.uniform_(0,0)\n",
        "    \n",
        "    if init_type[0] == 'o': # orthogonal\n",
        "      temp = np.random.random((shape[0],np.product(shape[1:]))).astype(np.float32)\n",
        "      U,_,Vt = np.linalg.svd(temp, full_matrices=False)\n",
        "      if len(temp) > len(temp[0]):\n",
        "        W = U.reshape(*shape)\n",
        "      else:\n",
        "        W = Vt.reshape(*shape)\n",
        "      self.weight.data = torch.from_numpy(W)\n",
        "    elif init_type[0] == 'u': # uniform\n",
        "      self.weight.data.uniform_(-1,1)\n",
        "    else: # xavier\n",
        "      torch.nn.init.xavier_uniform_(self.weight)\n",
        "    self.shape = shape\n",
        "      \n",
        "  def forward(self, x):\n",
        "    return F.conv2d(x, self.weight, self.bias, self.stride, \n",
        "                    self.padding, self.dilation, self.groups)\n",
        "  \n",
        "  def extra_repr(self):\n",
        "    return 'Size: {}'.format(self.shape)"
      ],
      "execution_count": 0,
      "outputs": []
    },
    {
      "cell_type": "code",
      "metadata": {
        "colab_type": "code",
        "id": "d4C-_v9Hm7YE",
        "colab": {}
      },
      "source": [
        "class ConvNetwork(nn.Module):\n",
        "  def __init__(self, dataset):\n",
        "    super(ConvNetwork, self).__init__()\n",
        "    x, y = dataset[0]\n",
        "    c, h, w = x.size()\n",
        "    output = 10\n",
        "    \n",
        "    self.net = nn.Sequential(\n",
        "      Conv2d(c, 32, (3,3), padding=(1,1), init_type='orthogonal'),\n",
        "      nn.ReLU(),\n",
        "      Conv2d(32, 64, (3,3), padding=(1,1), init_type='orthogonal'),\n",
        "      nn.ReLU(),\n",
        "      Conv2d(64, 32, (3,3), padding=(1,1)),\n",
        "      nn.ReLU(),\n",
        "      Conv2d(32, 64, (3,3), padding=(1,1)),\n",
        "      nn.ReLU(),\n",
        "      Conv2d(64, 32, (h,w), init_type='orthogonal'),\n",
        "      nn.ReLU(),\n",
        "      Conv2d(32, output, (1,1), init_type='orthogonal'),\n",
        "    ) # final size needs to be batch_size x 10 x 1 x 1\n",
        "    \n",
        "  def forward(self, x):\n",
        "    # (n, 10, 1, 1) sqeeze 2nd dim => (n, 10, 1) squeeze 2nd dim => (n, 10)\n",
        "    return self.net(x).squeeze(2).squeeze(2)\n",
        "  "
      ],
      "execution_count": 0,
      "outputs": []
    },
    {
      "cell_type": "code",
      "metadata": {
        "colab_type": "code",
        "id": "jYqywck8Wdm9",
        "pycharm": {
          "is_executing": false
        },
        "colab": {}
      },
      "source": [
        "# Initialize Datasets\n",
        "train_dataset = FashionMNISTProcessedDataset('tmp/fashionmnist')\n",
        "val_dataset = FashionMNISTProcessedDataset('tmp/fashionmnist',train=False)\n",
        "\n",
        "# Initialize DataLoaders\n",
        "train_loader = DataLoader(train_dataset, batch_size=100, pin_memory=True)\n",
        "val_loader = DataLoader(val_dataset, batch_size=100, pin_memory=True)\n",
        "\n",
        "# Initialize Model\n",
        "x,y = train_dataset.data[0]\n",
        "c,h,w = x.size()\n",
        "model = ConvNetwork(train_dataset)\n",
        "model = model.cuda()\n",
        "\n",
        "# Initialize Objective and Optimizer and other parameters\n",
        "objective = CrossEntropyLoss()\n",
        "optimizer = optim.Adam(model.parameters(), lr=1e-4)\n"
      ],
      "execution_count": 0,
      "outputs": []
    },
    {
      "cell_type": "code",
      "metadata": {
        "colab_type": "code",
        "id": "mTg1jyIsYVZN",
        "outputId": "15e1689b-2d15-473c-8b9a-8f757c35829b",
        "pycharm": {
          "is_executing": false
        },
        "colab": {
          "base_uri": "https://localhost:8080/",
          "height": 17
        }
      },
      "source": [
        "# Run your training and validation loop and collect stats\n",
        "losses = []\n",
        "validations = []\n",
        "accuracies = []\n",
        "validation_accuracies = []\n",
        "\n",
        "for epoch in range(10):\n",
        "  \n",
        "  loop = tqdm(total=len(train_loader),position=0,leave=False)\n",
        "  \n",
        "  for batch, (x, y_truth) in enumerate(train_loader):\n",
        "    x, y_truth = x.cuda(async=True), y_truth.cuda(async=True)\n",
        "    \n",
        "    optimizer.zero_grad()\n",
        "    y_hat = model(x)\n",
        "    \n",
        "    loss = objective(y_hat, y_truth)\n",
        "    loss.backward()\n",
        "    losses.append(loss.item())\n",
        "    \n",
        "    guesses = torch.max(y_hat, 1).indices.reshape(y_truth.shape)\n",
        "    correct = guesses == y_truth\n",
        "    accuracy = torch.sum(correct).item() / len(correct)\n",
        "    accuracies.append(accuracy)\n",
        "    \n",
        "    loop.set_description('epoch:{}, loss:{:.4f}, accuracy:{:.3f}'.format(epoch,loss,accuracy))\n",
        "    loop.update(1)\n",
        "    \n",
        "    optimizer.step()\n",
        "    \n",
        "    if batch % 100 == 0:\n",
        "      with torch.no_grad():\n",
        "        total_val_loss = []\n",
        "        total_val_acc = []\n",
        "        for x,y in val_loader:\n",
        "          val_yhat = model(x.cuda())\n",
        "          val_y = y.cuda()\n",
        "          val_loss = objective(val_yhat, val_y).item()\n",
        "          total_val_loss.append(val_loss)\n",
        "        \n",
        "          val_guesses = torch.max(val_yhat, 1).indices.reshape(val_y.shape)\n",
        "          val_correct = val_guesses == val_y\n",
        "          val_acc = torch.sum(val_correct).item() / len(val_correct)\n",
        "          total_val_acc.append(val_acc)\n",
        "        \n",
        "        val_acc = np.mean(total_val_acc)\n",
        "        validation_accuracies.append((len(accuracies),val_acc))  \n",
        "        val_loss = np.mean(total_val_loss)\n",
        "#       val_loss = np.mean([objective(model(x.cuda()), y.cuda()).item()\n",
        "#                          for x, y in val_loader])\n",
        "\n",
        "        validations.append((len(losses),val_loss))\n",
        "      \n",
        "  loop.close()\n",
        "  \n",
        "batch_nums, vals = zip(*validations)\n",
        "vbatch_nums, vaccs = zip(*validation_accuracies)"
      ],
      "execution_count": 7,
      "outputs": [
        {
          "output_type": "stream",
          "text": [
            ""
          ],
          "name": "stderr"
        }
      ]
    },
    {
      "cell_type": "markdown",
      "metadata": {
        "colab_type": "text",
        "id": "ronkEckHiDaU"
      },
      "source": [
        "\n",
        "___\n",
        "\n",
        "### Part 3\n",
        "Print the number of parameters in your network and plot accuracy of your training and validation \n",
        "set over time. You should experiment with some deep networks and see if you can get a network \n",
        "with close to 1,000,000 parameters.\n",
        "\n",
        "**TODO:**\n",
        "\n",
        "**DONE:**\n",
        "* Experiment with Deep Networks\n",
        "* Plot accuracy of training and validation set over time\n",
        "* Print out number of parameters in the model \n"
      ]
    },
    {
      "cell_type": "code",
      "metadata": {
        "colab_type": "code",
        "id": "PaWCKjxvyRSf",
        "pycharm": {
          "is_executing": false
        },
        "colab": {
          "base_uri": "https://localhost:8080/",
          "height": 549
        },
        "outputId": "e989f62c-021f-45ae-f657-feb6d19019cf"
      },
      "source": [
        "\n",
        "# Go back up and try a few different networks and initialization strategies\n",
        "# Plot loss if you want\n",
        "# Plot accuracy\n",
        "plt.figure(1)\n",
        "plt.plot(losses, label='train')\n",
        "plt.plot(batch_nums, vals, label='val')\n",
        "plt.ylabel('Loss')\n",
        "plt.xlabel('Batch')\n",
        "plt.legend()\n",
        "\n",
        "plt.figure(2)\n",
        "plt.plot(accuracies, label='train')\n",
        "plt.plot(vbatch_nums, vaccs, label='val')\n",
        "plt.ylabel('Accuracy')\n",
        "plt.xlabel('Batch')\n",
        "plt.legend()\n",
        "\n",
        "plt.show()"
      ],
      "execution_count": 26,
      "outputs": [
        {
          "output_type": "display_data",
          "data": {
            "image/png": "[encoded data removed]",
            "text/plain": [
              "<Figure size 432x288 with 1 Axes>"
            ]
          },
          "metadata": {
            "tags": []
          }
        },
        {
          "output_type": "display_data",
          "data": {
            "image/png": "[encoded data removed]",
            "text/plain": [
              "<Figure size 432x288 with 1 Axes>"
            ]
          },
          "metadata": {
            "tags": []
          }
        }
      ]
    },
    {
      "cell_type": "code",
      "metadata": {
        "colab_type": "code",
        "id": "oijCR-JnyS6V",
        "pycharm": {
          "is_executing": false
        },
        "colab": {
          "base_uri": "https://localhost:8080/",
          "height": 255
        },
        "outputId": "91ac2f77-023f-4691-fa10-59f8a61b9fdf"
      },
      "source": [
        "# Compute and print the number of parameters in the model\n",
        "total_params = 0\n",
        "for name, param in model.named_parameters():\n",
        "  if param.requires_grad:\n",
        "    num_params = np.prod(param.size())\n",
        "    if param.dim() > 1:\n",
        "      print(name, ':', 'x'.join(str(x) for x in list(param.size())), '=', num_params)\n",
        "    else:\n",
        "      print(name, ':', num_params)\n",
        "    total_params += num_params\n",
        "print('\\nTotal Parameters = ', total_params)"
      ],
      "execution_count": 11,
      "outputs": [
        {
          "output_type": "stream",
          "text": [
            "net.0.weight : 32x1x3x3 = 288\n",
            "net.0.bias : 32\n",
            "net.2.weight : 64x32x3x3 = 18432\n",
            "net.2.bias : 64\n",
            "net.4.weight : 32x64x3x3 = 18432\n",
            "net.4.bias : 32\n",
            "net.6.weight : 64x32x3x3 = 18432\n",
            "net.6.bias : 64\n",
            "net.8.weight : 32x64x28x28 = 1605632\n",
            "net.8.bias : 32\n",
            "net.10.weight : 10x32x1x1 = 320\n",
            "net.10.bias : 10\n",
            "\n",
            "Total Parameters =  1661770\n"
          ],
          "name": "stdout"
        }
      ]
    },
    {
      "cell_type": "markdown",
      "metadata": {
        "colab_type": "text",
        "id": "7hXGRxUQh9gX"
      },
      "source": [
        "___\n",
        "\n",
        "### Part 4\n",
        "Learn about how convolution layers affect the shape of outputs, and answer the following quiz questions. Include these in a new markdown cell in your jupyter notebook.\n",
        "\n",
        "\n",
        "*Using a Kernel size of 3×3 what should the settings of your 2d convolution be that results in the following mappings (first answer given to you)*\n",
        "\n",
        "* (c=3, h=10, w=10) ⇒ (c=10, h=8, w=8) : (out_channels=10, kernel_size=(3, 3), padding=(0, 0))\n",
        "* (c=3, h=10, w=10) ⇒ (c=22, h=10, w=10) : **(out_channels=22, kernel_size=(3, 3), padding=(1, 1))**\n",
        "* (c=3, h=10, w=10) ⇒ (c=65, h=12, w=12) : **(out_channels=65, kernel_size=(3, 3), padding=(2, 2))**\n",
        "* (c=3, h=10, w=10) ⇒ (c=7, h=20, w=20) : **(out_channels=7, kernel_size=(3, 3), padding=(6, 6))**\n",
        "\n",
        "*Using a Kernel size of 5×5:*)\n",
        "\n",
        "* (c=3, h=10, w=10) ⇒ (c=10, h=8, w=8) : (out_channels=10, kernel_size=(5, 5), padding=(1, 1))\n",
        "* (c=3, h=10, w=10) ⇒ (c=100, h=10, w=10) : **(out_channels=100, kernel_size=(5, 5), padding=(2, 2))**\n",
        "* (c=3, h=10, w=10) ⇒ (c=23, h=12, w=12) : **(out_channels=23, kernel_size=(5, 5), padding=(3, 3))**\n",
        "* (c=3, h=10, w=10) ⇒ (c=5, h=24, w=24) : **(out_channels=5, kernel_size=(5, 5), padding=(9, 9))**\n",
        "\n",
        "*Using Kernel size of 5×3:*\n",
        "\n",
        "* (c=3, h=10, w=10) ⇒ (c=10, h=8, w=8) : **(out_channels=10, kernel_size=(5, 3), padding=(1, 0))**\n",
        "* (c=3, h=10, w=10) ⇒ (c=100, h=10, w=10) : **(out_channels=100, kernel_size=(5, 3), padding=(2, 1))**\n",
        "* (c=3, h=10, w=10) ⇒ (c=23, h=12, w=12) : **(out_channels=23, kernel_size=(5, 3), padding=(3, 2))**\n",
        "* (c=3, h=10, w=10) ⇒ (c=5, h=24, w=24) : **(out_channels=5, kernel_size=(5, 3), padding=(9, 8))**\n",
        "\n",
        "*Determine the kernel that requires the smallest padding size to make the following mappings possible:*\n",
        "\n",
        "* (c=3, h=10, w=10) ⇒ (c=10, h=9, w=7) : **(out_channels=10, kernel_size=(2, 4), padding=(0, 0))**\n",
        "* (c=3, h=10, w=10) ⇒ (c=22, h=10, w=10) : **(out_channels=22, kernel_size=(1, 1), padding=(0, 0))**\n",
        "\n",
        "**TODO:**\n",
        "\n",
        "**DONE:**\n",
        "* Answer all the questions above "
      ]
    },
    {
      "cell_type": "code",
      "metadata": {
        "colab_type": "code",
        "id": "XXfG3wClh8an",
        "outputId": "023c67ae-e784-4bd0-feeb-9e5e9a5f2d2f",
        "pycharm": {
          "is_executing": false
        },
        "colab": {
          "base_uri": "https://localhost:8080/",
          "height": 34
        }
      },
      "source": [
        "# Write some test code for checking the answers for these problems (example shown in the video)\n",
        "def TEST(tuple_in, tuple_out, os, ks, p):\n",
        "  test_case = Conv2d(tuple_in[0], os, kernel_size=ks, padding=p)\n",
        "  test_size = test_case(torch.zeros(1, *tuple_in)).size()\n",
        "  correct = tuple(test_size[1:])\n",
        "  \n",
        "  if tuple_out == correct:\n",
        "    return 0\n",
        "  else:\n",
        "    return 1\n",
        "\n",
        "num_errors = 0\n",
        "num_errors += TEST((3,10,10), (10,8,8),   os=10, ks=(3,3), p=(0,0))\n",
        "num_errors += TEST((3,10,10), (22,10,10), os=22, ks=(3,3), p=(1,1))\n",
        "num_errors += TEST((3,10,10), (65,12,12), os=65, ks=(3,3), p=(2,2))\n",
        "num_errors += TEST((3,10,10), (7,20,20),  os=7,  ks=(3,3), p=(6,6))\n",
        "\n",
        "num_errors += TEST((3,10,10), (10,8,8),    os=10,  ks=(5,5), p=(1,1))\n",
        "num_errors += TEST((3,10,10), (100,10,10), os=100, ks=(5,5), p=(2,2))\n",
        "num_errors += TEST((3,10,10), (23,12,12),  os=23,  ks=(5,5), p=(3,3))\n",
        "num_errors += TEST((3,10,10), (5,24,24),   os=5,   ks=(5,5), p=(9,9))\n",
        "\n",
        "num_errors += TEST((3,10,10), (10,8,8),    os=10,  ks=(5,3), p=(1,0))\n",
        "num_errors += TEST((3,10,10), (100,10,10), os=100, ks=(5,3), p=(2,1))\n",
        "num_errors += TEST((3,10,10), (23,12,12),  os=23,  ks=(5,3), p=(3,2))\n",
        "num_errors += TEST((3,10,10), (5,24,24),   os=5,   ks=(5,3), p=(9,8))\n",
        "\n",
        "num_errors += TEST((3,10,10), (10,9,7),   os=10, ks=(2,4), p=(0,0))\n",
        "num_errors += TEST((3,10,10), (22,10,10), os=22, ks=(1,1), p=(0,0))\n",
        "\n",
        "if num_errors:\n",
        "  print('{} tests failed'.format(num_errors))\n",
        "else:\n",
        "  print('All tests passed!')"
      ],
      "execution_count": 29,
      "outputs": [
        {
          "output_type": "stream",
          "text": [
            "All tests passed!\n"
          ],
          "name": "stdout"
        }
      ]
    }
  ]
}