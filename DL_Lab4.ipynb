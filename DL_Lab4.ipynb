{
  "nbformat": 4,
  "nbformat_minor": 0,
  "metadata": {
    "accelerator": "GPU",
    "colab": {
      "name": "DL_Lab4.ipynb",
      "provenance": [],
      "collapsed_sections": [],
      "include_colab_link": true
    },
    "kernelspec": {
      "name": "python3",
      "display_name": "Python 3"
    },
    "language_info": {
      "codemirror_mode": {
        "name": "ipython",
        "version": 3
      },
      "file_extension": ".py",
      "mimetype": "text/x-python",
      "name": "python",
      "nbconvert_exporter": "python",
      "pygments_lexer": "ipython3",
      "version": "3.6.8"
    },
    "pycharm": {
      "stem_cell": {
        "cell_type": "raw",
        "metadata": {
          "collapsed": false
        },
        "source": []
      }
    }
  },
  "cells": [
    {
      "cell_type": "markdown",
      "metadata": {
        "id": "view-in-github",
        "colab_type": "text"
      },
      "source": [
        "<a href=\"https://colab.research.google.com/github/mhask94/cs474_labs_f2019/blob/master/DL_Lab4.ipynb\" target=\"_parent\"><img src=\"https://colab.research.google.com/assets/colab-badge.svg\" alt=\"Open In Colab\"/></a>"
      ]
    },
    {
      "cell_type": "markdown",
      "metadata": {
        "id": "9R4nc86ZGc2-",
        "colab_type": "text"
      },
      "source": [
        "<a href=\"https://colab.research.google.com/github/wingated/cs474_labs_f2019/blob/master/DL_Lab4.ipynb\" target=\"_parent\"><img src=\"https://colab.research.google.com/assets/colab-badge.svg\" alt=\"Open In Colab\"/></a>"
      ]
    },
    {
      "cell_type": "markdown",
      "metadata": {
        "colab_type": "text",
        "id": "view-in-github"
      },
      "source": [
        "# Lab 4: Cancer Detection\n",
        "\n",
        "## Objective\n",
        "* To build a dense prediction model\n",
        "* To begin reading current papers in DNN research\n",
        "\n",
        "## Deliverable\n",
        "For this lab, you will turn in a notebook that describes your efforts at creating\n",
        "a pytorch radiologist. Your final deliverable is a notebook that has (1) deep network,\n",
        "(2) cost function, (3) method of calculating accuracy,\n",
        "(4) an image that shows the dense prediction produced by your network on the pos_test_000072.png image.\n",
        "This is an image in the test set that your network will not have seen before.\n",
        "This image, and the ground truth labeling, is shown below.\n",
        "(And is contained in the downloadable dataset below).\n",
        "\n",
        "![](http://liftothers.org/dokuwiki/lib/exe/fetch.php?w=200&tok=a8ac31&media=cs501r_f2016:pos_test_000072_output.png)\n",
        "<img src=\"http://liftothers.org/dokuwiki/lib/exe/fetch.php?media=cs501r_f2016:pos_test_000072.png\" width=\"200\">\n",
        "\n",
        "\n",
        "## Grading standards\n",
        "Your notebook will be graded on the following:\n",
        "* 40% Proper design, creation and debugging of a dense prediction network\n",
        "* 40% Proper implementation of a loss function and train/test set accuracy measure\n",
        "* 10% Tidy visualizations of loss of your dense predictor during training\n",
        "* 10% Test image output\n",
        "\n",
        "\n",
        "## Data set\n",
        "The data is given as a set of 1024×1024 PNG images. Each input image (in \n",
        "the ```inputs``` directory) is an RGB image of a section of tissue,\n",
        "and there a file with the same name (in the ```outputs``` directory) \n",
        "that has a dense labeling of whether or not a section of tissue is cancerous\n",
        "(white pixels mean “cancerous”, while black pixels mean “not cancerous”).\n",
        "\n",
        "The data has been pre-split for you into test and training splits.\n",
        "Filenames also reflect whether or not the image has any cancer at all \n",
        "(files starting with ```pos_``` have some cancerous pixels, while files \n",
        "starting with ```neg_``` have no cancer anywhere).\n",
        "All of the data is hand-labeled, so the dataset is not very large.\n",
        "That means that overfitting is a real possibility.\n",
        "\n",
        "## Description\n",
        "For a video including some tips and tricks that can help with this lab: [https://youtu.be/Ms19kgK_D8w](https://youtu.be/Ms19kgK_D8w)\n",
        "For this lab, you will implement a virtual radiologist.\n",
        "You are given images of possibly cancerous tissue samples, \n",
        "and you must build a detector that identifies where in the tissue cancer may reside.\n",
        "\n",
        "---\n",
        "\n",
        "### Part 0\n",
        "Watch and follow video tutorial:\n",
        "\n",
        "https://youtu.be/Ms19kgK_D8w\n",
        "\n",
        "**TODO:**\n",
        "\n",
        "**DONE:**\n",
        "* Watch tutorial\n",
        "\n",
        "### Part 1\n",
        "Implement a dense predictor\n",
        "\n",
        "In previous labs and lectures, we have talked about DNNs that classify an \n",
        "entire image as a single class. Here, however, we are interested in a more nuanced classification: \n",
        "given an input image, we would like to identify each pixel that is possibly cancerous. \n",
        "That means that instead of a single output, your network should output an “image”, \n",
        "where each output pixel of your network represents the probability that a pixel is cancerous.\n",
        "\n",
        "**TODO:**\n",
        "\n",
        "* Create a Network that classifies each pixel as a 1 or 0 for cancerous / not cancerous\n",
        "\n",
        "**DONE:**\n",
        "\n",
        "___\n",
        "\n",
        "### Part 1a\n",
        "Implement your network topology\n",
        "\n",
        "\n",
        "Use the “Deep Convolution U-Net” from this paper: [(U-Net: Convolutional Networks for Biomedical Image Segmentation)](https://arxiv.org/pdf/1505.04597.pdf) \n",
        "\n",
        "![(Figure 1)](https://lh3.googleusercontent.com/qnHiB3B2KRxC3NjiSDtY08_DgDGTDsHcO6PP53oNRuct-p2QXCR-gyLkDveO850F2tTAhIOPC5Ha06NP9xq1JPsVAHlQ5UXA5V-9zkUrJHGhP_MNHFoRGnjBz1vn1p8P2rMWhlAb6HQ=w2400)\n",
        "\n",
        "You should use existing pytorch functions (not your own Conv2D module), such as ```nn.Conv2d```;\n",
        "you will also need the pytorch function ```torch.cat``` and ```nn.ConvTranspose2d```\n",
        "\n",
        "```torch.cat``` allows you to concatenate tensors.\n",
        "```nn.ConvTranspose2d``` is the opposite of ```nn.Conv2d```.\n",
        "It is used to bring an image from low res to higher res.\n",
        "[This blog](https://towardsdatascience.com/up-sampling-with-transposed-convolution-9ae4f2df52d0) should help you understand this function in detail.\n",
        "\n",
        "Note that the simplest network you could implement (with all the desired properties)\n",
        "is just a single convolution layer with two filters and no relu! \n",
        "Why is that? (of course it wouldn't work very well!)\n",
        "\n",
        "**TODO:**\n",
        "\n",
        "**DONE:**\n",
        "* Understand the U-Net architecture\n",
        "* Understand concatenation of inputs from multiple prior layers\n",
        "* Understand ConvTranspose\n",
        "* Answer Question / Reflect on simplest network with the desired properties\n",
        "- Because 2 filters would provide the 2 channels needed in the end, so it would provide the right output size.\n",
        "___\n",
        "The intention of this lab is to learn how to make deep neural nets and implement loss function.\n",
        "Therefore we'll help you with the implementation of Dataset.\n",
        "This code will download the dataset for you so that you are ready to use it and focus on network\n",
        "implementation, losses and accuracies."
      ]
    },
    {
      "cell_type": "code",
      "metadata": {
        "colab_type": "code",
        "id": "wQOefmcZVgTl",
        "pycharm": {
          "is_executing": false
        },
        "colab": {}
      },
      "source": [
        "!pip3 install torch --user\n",
        "!pip3 install torchvision --user\n",
        "!pip3 install tqdm --user\n",
        "\n",
        "import torch\n",
        "import torch.nn as nn\n",
        "import torch.nn.functional as F\n",
        "import torch.optim as optim\n",
        "from torch.utils.data import Dataset, DataLoader\n",
        "import numpy as np\n",
        "import matplotlib.pyplot as plt\n",
        "from torchvision import transforms, utils, datasets\n",
        "from tqdm import tqdm\n",
        "from torch.nn.parameter import Parameter\n",
        "import pdb\n",
        "import torchvision\n",
        "import os\n",
        "import gzip\n",
        "import tarfile\n",
        "import gc\n",
        "from IPython.core.ultratb import AutoFormattedTB\n",
        "__ITB__ = AutoFormattedTB(mode = 'Verbose',color_scheme='LightBg', tb_offset = 1)\n",
        "\n",
        "assert torch.cuda.is_available(), \"You need to request a GPU from Runtime > Change Runtime\""
      ],
      "execution_count": 0,
      "outputs": []
    },
    {
      "cell_type": "code",
      "metadata": {
        "colab_type": "code",
        "id": "Il_53HLSWPTY",
        "colab": {}
      },
      "source": [
        "class CancerDataset(Dataset):\n",
        "  def __init__(self, root, download=True, size=512, train=True):\n",
        "    if download and not os.path.exists(os.path.join(root, 'cancer_data')):\n",
        "      datasets.utils.download_url('http://liftothers.org/cancer_data.tar.gz', root, 'cancer_data.tar.gz', None)\n",
        "      self.extract_gzip(os.path.join(root, 'cancer_data.tar.gz'))\n",
        "      self.extract_tar(os.path.join(root, 'cancer_data.tar'))\n",
        "    \n",
        "    postfix = 'train' if train else 'test'\n",
        "    root = os.path.join(root, 'cancer_data', 'cancer_data')\n",
        "    self.dataset_folder = torchvision.datasets.ImageFolder(os.path.join(root, 'inputs_' + postfix) ,transform = transforms.Compose([transforms.Resize(size),transforms.ToTensor()]))\n",
        "    self.label_folder = torchvision.datasets.ImageFolder(os.path.join(root, 'outputs_' + postfix) ,transform = transforms.Compose([transforms.Resize(size),transforms.ToTensor()]))\n",
        "\n",
        "  @staticmethod\n",
        "  def extract_gzip(gzip_path, remove_finished=False):\n",
        "    print('Extracting {}'.format(gzip_path))\n",
        "    with open(gzip_path.replace('.gz', ''), 'wb') as out_f, gzip.GzipFile(gzip_path) as zip_f:\n",
        "      out_f.write(zip_f.read())\n",
        "    if remove_finished:\n",
        "      os.unlink(gzip_path)\n",
        "  \n",
        "  @staticmethod\n",
        "  def extract_tar(tar_path):\n",
        "    print('Untarring {}'.format(tar_path))\n",
        "    z = tarfile.TarFile(tar_path)\n",
        "    z.extractall(tar_path.replace('.tar', ''))\n",
        "\n",
        "  def __getitem__(self,index):\n",
        "    img = self.dataset_folder[index]\n",
        "    label = self.label_folder[index]\n",
        "    return img[0],label[0][0]\n",
        "  \n",
        "  def __len__(self):\n",
        "    return len(self.dataset_folder)"
      ],
      "execution_count": 0,
      "outputs": []
    },
    {
      "cell_type": "markdown",
      "metadata": {
        "colab_type": "text",
        "id": "QY4owfQwm-Ni"
      },
      "source": [
        "___\n",
        "\n",
        "### Part 1b\n",
        "Implement a cost function\n",
        "\n",
        "You should still use cross-entropy as your cost function, but you may need to think hard about how exactly to set this up – your network should output cancer/not-cancer probabilities for each pixel, which can be viewed as a two-class classification problem.\n",
        "\n",
        "**TODO:**\n",
        "\n",
        "**DONE:**\n",
        "* Adapt CrossEntropyLoss for 2 class pixel classification\n",
        "\n"
      ]
    },
    {
      "cell_type": "code",
      "metadata": {
        "colab_type": "code",
        "id": "XPgrP88aOtfy",
        "colab": {
          "base_uri": "https://localhost:8080/",
          "height": 89
        },
        "outputId": "46e92975-aa2d-4cec-f649-4701d5026eee"
      },
      "source": [
        "# You'll probably want a function or something to test input / output sizes of the ConvTranspose2d layer\n",
        "def testConvTranspose2dSize():\n",
        "  x_test = torch.zeros(1,3,512,512)\n",
        "  down = nn.Conv2d(3, 64, (3,3), padding=1, stride=2)\n",
        "  out_test = down(x_test)\n",
        "  print('down: \\n',out_test.size())\n",
        "\n",
        "  up = nn.ConvTranspose2d(3, 64, (2,2), padding=0, stride=2)\n",
        "  up_test = up(x_test)\n",
        "  print('up: \\n',up_test.size())\n",
        "  \n",
        "testConvTranspose2dSize()"
      ],
      "execution_count": 3,
      "outputs": [
        {
          "output_type": "stream",
          "text": [
            "down: \n",
            " torch.Size([1, 64, 256, 256])\n",
            "up: \n",
            " torch.Size([1, 64, 1024, 1024])\n"
          ],
          "name": "stdout"
        }
      ]
    },
    {
      "cell_type": "code",
      "metadata": {
        "colab_type": "code",
        "id": "jq22IyKanxo_",
        "colab": {}
      },
      "source": [
        "# You are welcome (and encouraged) to use the built-in batch normalization and dropout layer.\n",
        "\n",
        "class UnetBlock(nn.Module):\n",
        "  def __init__(self,c_in, c_out, kernel=(3,3), pad=(1,1), after='none'):\n",
        "    super(UnetBlock, self).__init__()    \n",
        "    self.net = nn.Sequential(\n",
        "        nn.Conv2d(c_in, c_out, kernel, padding=pad),\n",
        "        nn.ReLU(),\n",
        "        nn.Conv2d(c_out, c_out, kernel, padding=pad),\n",
        "        nn.ReLU(),\n",
        "    )\n",
        "    self.after = after\n",
        "    if after == 'up':\n",
        "      self.net2 = nn.ConvTranspose2d(c_out, c_out//2, (2,2), padding=0, stride=2)\n",
        "    elif after == 'down':\n",
        "      self.net2 = nn.Conv2d(c_out, c_out, kernel, padding=pad, stride=2)\n",
        "    elif after == 'end':\n",
        "      self.net2 = nn.Conv2d(c_out, 2, (1,1), padding=0)\n",
        "    else: # none\n",
        "      self.net2 = None\n",
        "    \n",
        "  def forward(self, x):\n",
        "    # (n, c, h, w) sqeeze 2nd dim => (n, c, w) squeeze 2nd dim => (n, c)\n",
        "    net_out = self.net(x).squeeze(2).squeeze(2)\n",
        "    after_out = self.net2(net_out).squeeze(2).squeeze(2)\n",
        "    if self.after == 'down':\n",
        "      return net_out, after_out\n",
        "    else:\n",
        "      return after_out\n",
        "\n",
        "class UnetCancerDetection(nn.Module):\n",
        "  def __init__(self):\n",
        "    super(UnetCancerDetection, self).__init__()\n",
        "    self.down1 = UnetBlock(3, 64, after='down')\n",
        "    self.down2 = UnetBlock(64, 128, after='down')\n",
        "    self.down3 = UnetBlock(128, 256, after='down')\n",
        "    self.down4 = UnetBlock(256, 512, after='down')\n",
        "    self.up1 = UnetBlock(512, 1024, after='up')\n",
        "    self.up2 = UnetBlock(1024, 512, after='up')\n",
        "    self.up3 = UnetBlock(512, 256, after='up')\n",
        "    self.up4 = UnetBlock(256, 128, after='up')\n",
        "    self.end = UnetBlock(128, 64, after='end')\n",
        " \n",
        "  def forward(self, x):\n",
        "    skip1, down1 = self.down1(x)\n",
        "    skip2, down2 = self.down2(down1)\n",
        "    skip3, down3 = self.down3(down2)\n",
        "    skip4, down4 = self.down4(down3)\n",
        "    up1 = self.up1(down4)\n",
        "    up2 = self.up2(torch.cat((skip4, up1), dim=1))\n",
        "    up3 = self.up3(torch.cat((skip3, up2), dim=1))\n",
        "    up4 = self.up4(torch.cat((skip2, up3), dim=1))\n",
        "    out = self.end(torch.cat((skip1, up4), dim=1))\n",
        "\n",
        "    return out\n"
      ],
      "execution_count": 0,
      "outputs": []
    },
    {
      "cell_type": "code",
      "metadata": {
        "colab_type": "code",
        "id": "NAjagHCdGNAh",
        "scrolled": true,
        "colab": {
          "base_uri": "https://localhost:8080/",
          "height": 35
        },
        "outputId": "d5583ef0-3a74-47d9-cae6-4ec32f68ed97"
      },
      "source": [
        "# Create your datasets and neural network as you have before\n",
        "gc.collect()\n",
        "\n",
        "try:\n",
        "  train_dataset = CancerDataset('/tmp/cancerdata', train=True)\n",
        "  val_dataset = CancerDataset('/tmp/cancerdata', train=False)\n",
        "\n",
        "  train_loader = DataLoader(train_dataset, batch_size=7, pin_memory=True,\n",
        "                            num_workers=4, shuffle=True)\n",
        "  val_loader = DataLoader(val_dataset, batch_size=7, pin_memory=True,\n",
        "                          num_workers=4)\n",
        "\n",
        "  model = UnetCancerDetection()\n",
        "  model.cuda()\n",
        "\n",
        "  objective = nn.CrossEntropyLoss()\n",
        "  optimizer = optim.Adam(model.parameters(), lr=1e-4)\n",
        "\n",
        "  print('CUDA mem: ', torch.cuda.memory_allocated(0) / 1e9)\n",
        "  \n",
        "except:\n",
        "  __ITB__()"
      ],
      "execution_count": 5,
      "outputs": [
        {
          "output_type": "stream",
          "text": [
            "CUDA mem:  0.138633216\n"
          ],
          "name": "stdout"
        }
      ]
    },
    {
      "cell_type": "markdown",
      "metadata": {
        "id": "l-bzD6E3Cbnf",
        "colab_type": "text"
      },
      "source": [
        ""
      ]
    },
    {
      "cell_type": "code",
      "metadata": {
        "id": "gkJkP9WXGc3s",
        "colab_type": "code",
        "colab": {
          "base_uri": "https://localhost:8080/",
          "height": 89
        },
        "outputId": "aba55905-45b3-404a-c9bf-3f9ce44dee8f"
      },
      "source": [
        "def testNetworkOutputSizes():\n",
        "  x_test = torch.zeros(1,3,512,512)\n",
        "\n",
        "  block1 = UnetBlock(3, 32, after='down')\n",
        "  skip, after = block1(x_test)\n",
        "  print('skip: ', skip.size())\n",
        "  print('after: ', after.size())\n",
        "\n",
        "  block2 = UnetBlock(3, 32, after='up')\n",
        "  up_after = block2(x_test)\n",
        "  print('up_after: ', up_after.size())\n",
        "\n",
        "  net = UnetCancerDetection()\n",
        "  out = net(x_test)\n",
        "  print('out: ', out.size())\n",
        "  \n",
        "testNetworkOutputSizes()"
      ],
      "execution_count": 19,
      "outputs": [
        {
          "output_type": "stream",
          "text": [
            "skip:  torch.Size([1, 32, 512, 512])\n",
            "after:  torch.Size([1, 32, 256, 256])\n",
            "up_after:  torch.Size([1, 16, 1024, 1024])\n",
            "out:  torch.Size([1, 2, 512, 512])\n"
          ],
          "name": "stdout"
        }
      ]
    },
    {
      "cell_type": "code",
      "metadata": {
        "colab_type": "code",
        "id": "RkieTbwlYWPS",
        "colab": {
          "base_uri": "https://localhost:8080/",
          "height": 17
        },
        "outputId": "fdd7a1e9-3e60-4f9f-c7ac-fd66312e2f40"
      },
      "source": [
        "# This is what was talked about in the video for memory management\n",
        "def calcAccuracy(yhat, ytruth):\n",
        "  cancer_mask = torch.argmax(yhat, dim=1)\n",
        "\n",
        "  num_diff_pixels = torch.sum(cancer_mask.byte() ^ ytruth.byte()).item()\n",
        "  accuracy = 1 - num_diff_pixels / ytruth.size().numel()\n",
        "  return accuracy\n",
        "\n",
        "def trainBatch(x, ytruth):\n",
        "  global model, optimizer, objective\n",
        "  gc.collect()\n",
        "\n",
        "  x, ytruth = x.cuda(async=True), ytruth.cuda(async=True)\n",
        "  optimizer.zero_grad()\n",
        "  yhat = model(x)\n",
        "\n",
        "  loss = objective(yhat, ytruth.long())\n",
        "  loss.backward()\n",
        "  losses.append(loss.item())\n",
        "\n",
        "  accuracy = calcAccuracy(yhat, ytruth)\n",
        "\n",
        "  optimizer.step()\n",
        "\n",
        "  return loss, accuracy\n",
        "\n",
        "def validate():\n",
        "  global val_loader, model, objective\n",
        "  gc.collect()\n",
        "  with torch.no_grad():\n",
        "    total_val_loss = []\n",
        "    total_val_acc = []\n",
        "    for x,y in val_loader:\n",
        "      val_yhat = model(x.cuda())\n",
        "      val_y = y.cuda()\n",
        "      \n",
        "      val_loss = objective(val_yhat, val_y.long()).item()\n",
        "      total_val_loss.append(val_loss)\n",
        "\n",
        "      val_acc = calcAccuracy(val_yhat, val_y)\n",
        "      total_val_acc.append(val_acc)\n",
        "\n",
        "    val_loss = np.mean(total_val_loss)\n",
        "    val_acc = np.mean(total_val_acc) \n",
        "\n",
        "    return val_loss, val_acc\n",
        "\n",
        "losses = []\n",
        "val_losses = []\n",
        "accuracies = []\n",
        "val_accuracies = []\n",
        "\n",
        "try:\n",
        "  for epoch in range(10):\n",
        "    loop = tqdm(total=len(train_loader),position=0,leave=False)\n",
        "    for batch, (x,y_truth) in enumerate(train_loader):\n",
        "      gc.collect()\n",
        "      loss, accuracy = trainBatch(x, y_truth)\n",
        "      losses.append(loss)\n",
        "      accuracies.append(accuracy)\n",
        "      \n",
        "      mem = torch.cuda.memory_allocated(0) / 1e9\n",
        "      string = 'e:{}, l:{:.4f}, a:{:.3f}, m:{:.2f} '\n",
        "      string = string.format(epoch,loss,accuracy,mem)\n",
        "      loop.set_description(string)\n",
        "      loop.update(1)\n",
        "\n",
        "      if batch % 100 == 0:\n",
        "        val_loss, val_acc = validate()\n",
        "        val_losses.append((len(losses), val_loss))\n",
        "        val_accuracies.append((len(accuracies), val_acc))\n",
        "    loop.close()\n",
        "  batch_nums, vals = zip(*val_losses)\n",
        "  vbatch_nums, vaccs = zip(*val_accuracies)  \n",
        "except:\n",
        "  __ITB__()"
      ],
      "execution_count": 10,
      "outputs": [
        {
          "output_type": "stream",
          "text": [
            ""
          ],
          "name": "stderr"
        }
      ]
    },
    {
      "cell_type": "markdown",
      "metadata": {
        "colab_type": "text",
        "id": "CZ062Jv1jIIu"
      },
      "source": [
        "\n",
        "___\n",
        "\n",
        "### Part 2\n",
        "\n",
        "Plot performance over time\n",
        "\n",
        "Please generate a plot that shows loss on the training set as a function of training time. Make sure your axes are labeled!\n",
        "\n",
        "**TODO:**\n",
        "\n",
        "**DONE:**\n",
        "* Plot training loss as function of training time (not Epochs)\n"
      ]
    },
    {
      "cell_type": "code",
      "metadata": {
        "colab_type": "code",
        "id": "mTg1jyIsYVZN",
        "outputId": "3cb267e9-ad4e-4e21-bf95-a41836f6f031",
        "colab": {
          "base_uri": "https://localhost:8080/",
          "height": 549
        }
      },
      "source": [
        "# Your plotting code here\n",
        "plt.figure(1)\n",
        "plt.plot(losses, label='train')\n",
        "plt.plot(batch_nums, vals, label='val')\n",
        "plt.ylabel('Loss')\n",
        "plt.xlabel('Batch')\n",
        "plt.legend()\n",
        "\n",
        "plt.figure(2)\n",
        "plt.plot(accuracies, label='train')\n",
        "plt.plot(vbatch_nums, vaccs, label='val')\n",
        "plt.ylabel('Accuracy')\n",
        "plt.xlabel('Batch')\n",
        "plt.legend()\n",
        "\n",
        "plt.show()"
      ],
      "execution_count": 11,
      "outputs": [
        {
          "output_type": "display_data",
          "data": {
            "image/png": "[encoded data removed]",
            "text/plain": [
              "<Figure size 432x288 with 1 Axes>"
            ]
          },
          "metadata": {
            "tags": []
          }
        },
        {
          "output_type": "display_data",
          "data": {
            "image/png": "[encoded data removed]",
            "text/plain": [
              "<Figure size 432x288 with 1 Axes>"
            ]
          },
          "metadata": {
            "tags": []
          }
        }
      ]
    },
    {
      "cell_type": "markdown",
      "metadata": {
        "colab_type": "text",
        "id": "S4s92S2_jQOG"
      },
      "source": [
        "___\n",
        "\n",
        "### Part 3\n",
        "\n",
        "Generate a prediction on the pos_test_000072.png image\n",
        "\n",
        "Calculate the output of your trained network on the pos_test_000072.png image,\n",
        "then make a hard decision (cancerous/not-cancerous) for each pixel.\n",
        "The resulting image should be black-and-white, where white pixels represent things\n",
        "you think are probably cancerous.\n",
        "\n",
        "**TODO:**\n",
        "\n",
        "**DONE:**\n",
        "\n",
        "**NOTE:**\n",
        "\n",
        "Guessing that the pixel is not cancerous every single time will give you an accuracy of ~ 85%.\n",
        "Your trained network should be able to do better than that (but you will not be graded on accuracy).\n",
        "This is the result I got after 1 hour or training.\n",
        "\n",
        "![](http://liftothers.org/dokuwiki/lib/exe/fetch.php?w=400&tok=d23e0b&media=cs501r_f2016:training_accuracy.png)\n",
        "![](http://liftothers.org/dokuwiki/lib/exe/fetch.php?w=400&tok=bb8e3c&media=cs501r_f2016:training_loss.png)"
      ]
    },
    {
      "cell_type": "code",
      "metadata": {
        "id": "jou4m4N-nJwD",
        "colab_type": "code",
        "colab": {
          "base_uri": "https://localhost:8080/",
          "height": 203
        },
        "outputId": "7a7edd26-d57d-4442-fb5a-a20da3df4ab9"
      },
      "source": [
        "# Code for testing prediction on an image\n",
        "def testModel():\n",
        "  x,truth_img = val_dataset[172]\n",
        "  x = x.cuda(async=True)\n",
        "  out = model(x.unsqueeze(0))\n",
        "  \n",
        "  img = torch.argmax(out, dim=1)\n",
        "  \n",
        "  fig, ax = plt.subplots(1,2)\n",
        "  ax[0].imshow(img[0].cpu(), cmap='gray')\n",
        "  ax[0].set_title('Prediction')\n",
        "  ax[0].set_xticks([])\n",
        "  ax[0].set_yticks([])\n",
        "  ax[1].imshow(truth_img, cmap='gray')\n",
        "  ax[1].set_title('Truth')\n",
        "  ax[1].set_xticks([])\n",
        "  ax[1].set_yticks([])\n",
        "  \n",
        "  plt.show()  \n",
        "  \n",
        "testModel()"
      ],
      "execution_count": 18,
      "outputs": [
        {
          "output_type": "display_data",
          "data": {
            "image/png": "[encoded data removed]",
            "text/plain": [
              "<Figure size 432x288 with 2 Axes>"
            ]
          },
          "metadata": {
            "tags": []
          }
        }
      ]
    }
  ]
}