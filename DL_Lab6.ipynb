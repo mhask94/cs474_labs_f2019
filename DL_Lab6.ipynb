{
  "nbformat": 4,
  "nbformat_minor": 0,
  "metadata": {
    "colab": {
      "name": "DL_Lab6.ipynb",
      "provenance": [],
      "collapsed_sections": [],
      "include_colab_link": true
    },
    "kernelspec": {
      "display_name": "Python 3",
      "language": "python",
      "name": "python3"
    },
    "language_info": {
      "codemirror_mode": {
        "name": "ipython",
        "version": 3
      },
      "file_extension": ".py",
      "mimetype": "text/x-python",
      "name": "python",
      "nbconvert_exporter": "python",
      "pygments_lexer": "ipython3",
      "version": "3.6.3"
    },
    "pycharm": {
      "stem_cell": {
        "cell_type": "raw",
        "metadata": {
          "collapsed": false
        },
        "source": []
      }
    }
  },
  "cells": [
    {
      "cell_type": "markdown",
      "metadata": {
        "id": "view-in-github",
        "colab_type": "text"
      },
      "source": [
        "<a href=\"https://colab.research.google.com/github/mhask94/cs474_labs_f2019/blob/master/DL_Lab6.ipynb\" target=\"_parent\"><img src=\"https://colab.research.google.com/assets/colab-badge.svg\" alt=\"Open In Colab\"/></a>"
      ]
    },
    {
      "cell_type": "markdown",
      "metadata": {
        "colab_type": "text",
        "id": "cksgAH12XRjV"
      },
      "source": [
        "# Lab 6: Sequence-to-sequence models\n",
        "\n",
        "## Description:\n",
        "For this lab, you will code up the [char-rnn model of Karpathy](http://karpathy.github.io/2015/05/21/rnn-effectiveness/). This is a recurrent neural network that is trained probabilistically on sequences of characters, and that can then be used to sample new sequences that are like the original.\n",
        "\n",
        "This lab will help you develop several new skills, as well as understand some best practices needed for building large models. In addition, we'll be able to create networks that generate neat text!\n",
        "\n",
        "## There are two parts of this lab:\n",
        "###  1.   Wiring up a basic sequence-to-sequence computation graph\n",
        "###  2.   Implementing your own GRU cell.\n",
        "\n",
        "\n",
        "An example of my final samples are shown below (more detail in the\n",
        "final section of this writeup), after 150 passes through the data.\n",
        "Please generate about 15 samples for each dataset.\n",
        "\n",
        "<code>\n",
        "And ifte thin forgision forward thene over up to a fear not your\n",
        "And freitions, which is great God. Behold these are the loss sub\n",
        "And ache with the Lord hath bloes, which was done to the holy Gr\n",
        "And appeicis arm vinimonahites strong in name, to doth piseling \n",
        "And miniquithers these words, he commanded order not; neither sa\n",
        "And min for many would happine even to the earth, to said unto m\n",
        "And mie first be traditions? Behold, you, because it was a sound\n",
        "And from tike ended the Lamanites had administered, and I say bi\n",
        "</code>\n"
      ]
    },
    {
      "cell_type": "markdown",
      "metadata": {
        "colab_type": "text",
        "id": "c2i_QpSsWG4c"
      },
      "source": [
        "---\n",
        "\n",
        "## Part 0: Readings, data loading, and high level training\n",
        "\n",
        "---\n",
        "\n",
        "There is a tutorial here that will help build out scaffolding code, and get an understanding of using sequences in pytorch.\n",
        "\n",
        "* Read the following\n",
        "\n",
        "> * [Pytorch sequence-to-sequence tutorial](https://pytorch.org/tutorials/intermediate/seq2seq_translation_tutorial.html)\n",
        "* [Understanding LSTM Networks](http://colah.github.io/posts/2015-08-Understanding-LSTMs/)\n",
        "\n",
        "\n",
        "\n",
        "\n"
      ]
    },
    {
      "cell_type": "code",
      "metadata": {
        "colab_type": "code",
        "id": "l7bdZWxvJrsx",
        "colab": {
          "base_uri": "https://localhost:8080/",
          "height": 397
        },
        "outputId": "0ec6fb43-ce52-4fa1-8d8e-df573a31e7d9"
      },
      "source": [
        "! wget -O ./text_files.tar.gz 'https://piazza.com/redirect/s3?bucket=uploads&prefix=attach%2Fjlifkda6h0x5bk%2Fhzosotq4zil49m%2Fjn13x09arfeb%2Ftext_files.tar.gz' \n",
        "! tar -xzf text_files.tar.gz\n",
        "! pip install unidecode\n",
        "! pip install torch\n",
        "\n",
        "import unidecode\n",
        "import string\n",
        "import random\n",
        "import re\n",
        " \n",
        "from IPython.core.debugger import set_trace\n",
        " \n",
        "all_characters = string.printable\n",
        "n_characters = len(all_characters)\n",
        "file = unidecode.unidecode(open('./text_files/lotr.txt').read())\n",
        "while file.count('\\n\\n') > 0: # get rid of newline characters\n",
        "  file = file.replace('\\n\\n', '\\n')\n",
        "file = file.replace('\\n', ' ')\n",
        "file = file.replace('  ', ' ')\n",
        "file_len = len(file)\n",
        "print('file_len =', file_len)"
      ],
      "execution_count": 1,
      "outputs": [
        {
          "output_type": "stream",
          "text": [
            "--2019-10-19 21:13:50--  https://piazza.com/redirect/s3?bucket=uploads&prefix=attach%2Fjlifkda6h0x5bk%2Fhzosotq4zil49m%2Fjn13x09arfeb%2Ftext_files.tar.gz\n",
            "Resolving piazza.com (piazza.com)... 52.45.119.166, 3.214.17.10, 52.2.48.133, ...\n",
            "Connecting to piazza.com (piazza.com)|52.45.119.166|:443... connected.\n",
            "HTTP request sent, awaiting response... 302 Found\n",
            "Location: https://d1b10bmlvqabco.cloudfront.net/attach/jlifkda6h0x5bk/hzosotq4zil49m/jn13x09arfeb/text_files.tar.gz [following]\n",
            "--2019-10-19 21:13:51--  https://d1b10bmlvqabco.cloudfront.net/attach/jlifkda6h0x5bk/hzosotq4zil49m/jn13x09arfeb/text_files.tar.gz\n",
            "Resolving d1b10bmlvqabco.cloudfront.net (d1b10bmlvqabco.cloudfront.net)... 99.86.32.60, 99.86.32.164, 99.86.32.66, ...\n",
            "Connecting to d1b10bmlvqabco.cloudfront.net (d1b10bmlvqabco.cloudfront.net)|99.86.32.60|:443... connected.\n",
            "HTTP request sent, awaiting response... 200 OK\n",
            "Length: 1533290 (1.5M) [application/x-gzip]\n",
            "Saving to: ‘./text_files.tar.gz’\n",
            "\n",
            "\r./text_files.tar.gz   0%[                    ]       0  --.-KB/s               \r./text_files.tar.gz 100%[===================>]   1.46M  --.-KB/s    in 0.04s   \n",
            "\n",
            "2019-10-19 21:13:51 (34.1 MB/s) - ‘./text_files.tar.gz’ saved [1533290/1533290]\n",
            "\n",
            "Requirement already satisfied: unidecode in /usr/local/lib/python3.6/dist-packages (1.1.1)\n",
            "Requirement already satisfied: torch in /usr/local/lib/python3.6/dist-packages (1.3.0+cu100)\n",
            "Requirement already satisfied: numpy in /usr/local/lib/python3.6/dist-packages (from torch) (1.16.5)\n",
            "file_len = 2526054\n"
          ],
          "name": "stdout"
        }
      ]
    },
    {
      "cell_type": "code",
      "metadata": {
        "id": "YTIgx4SIKQ9u",
        "colab_type": "code",
        "colab": {
          "base_uri": "https://localhost:8080/",
          "height": 55
        },
        "outputId": "a37b8bd7-7471-4f0e-da49-2a7039177777"
      },
      "source": [
        "import glob\n",
        "print(glob.glob(\"./text_files/*.txt\"))"
      ],
      "execution_count": 15,
      "outputs": [
        {
          "output_type": "stream",
          "text": [
            "['./text_files/tiny_shakespeare.txt', './text_files/abcd.txt', './text_files/abab.txt', './text_files/alma.txt', './text_files/test1.txt', './text_files/lotr.txt', './text_files/switch.bat.txt']\n"
          ],
          "name": "stdout"
        }
      ]
    },
    {
      "cell_type": "code",
      "metadata": {
        "colab_type": "code",
        "id": "TxBeKeNjJ0NQ",
        "outputId": "3e1368bb-19c5-4c7d-ac66-8d7f67e2457e",
        "colab": {
          "base_uri": "https://localhost:8080/",
          "height": 55
        }
      },
      "source": [
        "chunk_len = 200\n",
        " \n",
        "def random_chunk():\n",
        "  start_index = random.randint(0, file_len - chunk_len)\n",
        "  end_index = start_index + chunk_len + 1\n",
        "  return file[start_index:end_index]\n",
        "  \n",
        "print(random_chunk())"
      ],
      "execution_count": 2,
      "outputs": [
        {
          "output_type": "stream",
          "text": [
            "en another clear voice, as young and as ancient as Spring, like the song of a glad water flowing down into the night from a bright morning in the hills, came falling like silver to meet them: Now let t\n"
          ],
          "name": "stdout"
        }
      ]
    },
    {
      "cell_type": "code",
      "metadata": {
        "colab_type": "code",
        "id": "On0_WitWJ99e",
        "outputId": "ae76b301-fe2f-46f0-88ed-a7c0ce21c8ef",
        "colab": {
          "base_uri": "https://localhost:8080/",
          "height": 35
        }
      },
      "source": [
        "import torch\n",
        "\n",
        "# Turn string into list of longs\n",
        "def char_tensor(string):\n",
        "  tensor = torch.zeros(len(string)).long()\n",
        "  for c in range(len(string)):\n",
        "      tensor[c] = all_characters.index(string[c])\n",
        "  return tensor\n",
        "\n",
        "print(char_tensor('abcDEF'))"
      ],
      "execution_count": 3,
      "outputs": [
        {
          "output_type": "stream",
          "text": [
            "tensor([10, 11, 12, 39, 40, 41])\n"
          ],
          "name": "stdout"
        }
      ]
    },
    {
      "cell_type": "markdown",
      "metadata": {
        "colab_type": "text",
        "id": "CYJPTLcaYmfI"
      },
      "source": [
        "---\n",
        "\n",
        "## Part 4: Creating your own GRU cell \n",
        "\n",
        "**(Come back to this later - its defined here so that the GRU will be defined before it is used)**\n",
        "\n",
        "---\n",
        "\n",
        "The cell that you used in Part 1 was a pre-defined Pytorch layer. Now, write your own GRU class using the same parameters as the built-in Pytorch class does.\n",
        "\n",
        "Please try not to look at the GRU cell definition. The answer is right there in the code, and in theory, you could just cut-and-paste it. This bit is on your honor!\n",
        "\n",
        "**TODO:**\n",
        "\n",
        "**DONE:**\n",
        "* Create a custom GRU cell\n"
      ]
    },
    {
      "cell_type": "code",
      "metadata": {
        "colab_type": "code",
        "id": "aavAv50ZKQ-F",
        "colab": {}
      },
      "source": [
        "import torch\n",
        "import torch.nn as nn\n",
        "import torch.nn.functional as F\n",
        "from torch.autograd import Variable\n",
        "\n",
        "\n",
        "class GRU(nn.Module):\n",
        "  def __init__(self, input_size, hidden_size, num_layers):\n",
        "    super(GRU, self).__init__()\n",
        "    self.input_size = input_size\n",
        "    self.hidden_size = hidden_size\n",
        "    self.n_layers = num_layers\n",
        "    \n",
        "#     self.w_ir = []\n",
        "#     self.w_hr = []\n",
        "#     self.w_iz = []\n",
        "#     self.w_hz = []\n",
        "#     self.w_in = []\n",
        "#     self.w_hn = []\n",
        "    \n",
        "#     for l in range(self.n_layers):\n",
        "#       self.w_ir.append(nn.Linear(input_size,  hidden_size))\n",
        "#       self.w_hr.append(nn.Linear(hidden_size, hidden_size))\n",
        "#       self.w_iz.append(nn.Linear(input_size,  hidden_size))\n",
        "#       self.w_hz.append(nn.Linear(hidden_size, hidden_size))\n",
        "#       self.w_in.append(nn.Linear(input_size,  hidden_size))\n",
        "#       self.w_hn.append(nn.Linear(hidden_size, hidden_size))\n",
        "\n",
        "    self.w_ir = nn.Linear(input_size,  hidden_size)\n",
        "    self.w_hr = nn.Linear(hidden_size, hidden_size)\n",
        "    self.w_iz = nn.Linear(input_size,  hidden_size)\n",
        "    self.w_hz = nn.Linear(hidden_size, hidden_size)\n",
        "    self.w_in = nn.Linear(input_size,  hidden_size)\n",
        "    self.w_hn = nn.Linear(hidden_size, hidden_size)\n",
        "    \n",
        "    self.sig = nn.Sigmoid()\n",
        "    self.tan = nn.Tanh()    \n",
        "    \n",
        "  def forward(self, inputs, prev_hidden):\n",
        "#     hidden = torch.empty(prev_hidden.shape)\n",
        "\n",
        "#     for l in range(self.n_layers):\n",
        "    r_t = self.sig(self.w_ir(inputs) + self.w_hr(prev_hidden))\n",
        "    z_t = self.sig(self.w_iz(inputs) + self.w_hz(prev_hidden))\n",
        "    n_t = self.tan(self.w_in(inputs) + r_t*self.w_hn(prev_hidden))\n",
        "    hidden = (1 - z_t) * n_t + z_t * prev_hidden\n",
        "    output = hidden[-1:]\n",
        "    \n",
        "    return output, hidden\n",
        "  "
      ],
      "execution_count": 0,
      "outputs": []
    },
    {
      "cell_type": "markdown",
      "metadata": {
        "colab_type": "text",
        "id": "qtXdX-B_WiAY"
      },
      "source": [
        "---\n",
        "\n",
        "##  Part 1: Building a sequence to sequence model\n",
        "\n",
        "---\n",
        "\n",
        "Great! We have the data in a useable form. We can switch out which text file we are reading from, and trying to simulate.\n",
        "\n",
        "We now want to build out an RNN model, in this section, we will use all built in Pytorch pieces when building our RNN class.\n",
        "\n",
        "\n",
        "**TODO:**\n",
        "\n",
        "**DONE:**\n",
        "* Create an RNN class that extends from nn.Module.\n"
      ]
    },
    {
      "cell_type": "code",
      "metadata": {
        "colab_type": "code",
        "id": "d6tNdEnzWj5F",
        "colab": {}
      },
      "source": [
        "class RNN(nn.Module):\n",
        "  def __init__(self, input_size, hidden_size, output_size, n_layers=1):\n",
        "    super(RNN, self).__init__()\n",
        "    self.input_size = input_size\n",
        "    self.hidden_size = hidden_size\n",
        "    self.output_size = output_size\n",
        "    self.n_layers = n_layers\n",
        "    \n",
        "    self.embedding = nn.Embedding(self.input_size, self.hidden_size)\n",
        "    # inputs are embedded to be hidden_size\n",
        "    self.gru = GRU(input_size=hidden_size, hidden_size=hidden_size, \n",
        "                      num_layers=n_layers)\n",
        "    self.relu = nn.ReLU()\n",
        "    self.decode = nn.Linear(self.hidden_size, self.output_size)\n",
        "\n",
        "  def forward(self, input_char, hidden):\n",
        "    embed = self.embedding(input_char).view(1,1,-1)\n",
        "    output, hidden = self.gru(embed, hidden)\n",
        "    output = self.relu(self.decode(output))\n",
        "    \n",
        "    return output, hidden\n",
        "\n",
        "  def init_hidden(self):\n",
        "    return torch.zeros(self.n_layers, 1, self.hidden_size)"
      ],
      "execution_count": 0,
      "outputs": []
    },
    {
      "cell_type": "code",
      "metadata": {
        "colab_type": "code",
        "id": "hrhXghEPKD-5",
        "colab": {}
      },
      "source": [
        "def random_training_set():    \n",
        "  chunk = random_chunk()\n",
        "  inp = char_tensor(chunk[:-1])\n",
        "  target = char_tensor(chunk[1:])\n",
        "  return inp, target"
      ],
      "execution_count": 0,
      "outputs": []
    },
    {
      "cell_type": "markdown",
      "metadata": {
        "colab_type": "text",
        "id": "ZpiGObbBX0Mr"
      },
      "source": [
        "---\n",
        "\n",
        "## Part 2: Sample text and Training information\n",
        "\n",
        "---\n",
        "\n",
        "We now want to be able to train our network, and sample text after training.\n",
        "\n",
        "This function outlines how training a sequence style network goes. \n",
        "\n",
        "**TODO:**\n",
        "\n",
        "**DONE:**\n",
        "* Fill in the pieces.\n",
        "\n"
      ]
    },
    {
      "cell_type": "code",
      "metadata": {
        "colab_type": "code",
        "id": "2ALC3Pf8Kbsi",
        "colab": {}
      },
      "source": [
        "def train(input_str, target_str):\n",
        "  decoder_optimizer.zero_grad()\n",
        "  hidden = decoder.init_hidden()\n",
        "  loss = 0\n",
        "  \n",
        "  for in_char, target_char in zip(input_str, target_str):\n",
        "    \n",
        "    char_hat, hidden = decoder(in_char, hidden)\n",
        "    target_char = target_char.unsqueeze(0)\n",
        "    loss += criterion(char_hat.squeeze(0), target_char)\n",
        "    \n",
        "  loss.backward()\n",
        "  decoder_optimizer.step()\n",
        "  \n",
        "  return loss.item()"
      ],
      "execution_count": 0,
      "outputs": []
    },
    {
      "cell_type": "markdown",
      "metadata": {
        "colab_type": "text",
        "id": "EN06NUu3YRlz"
      },
      "source": [
        "---\n",
        "\n",
        "## Part 3: Sample text and Training information\n",
        "\n",
        "---\n",
        "\n",
        "You can at this time, if you choose, also write out your train loop boilerplate that samples random sequences and trains your RNN. This will be helpful to have working before writing your own GRU class.\n",
        "\n",
        "If you are finished training, or during training, and you want to sample from the network you may consider using the following function. If your RNN model is instantiated as `decoder`then this will probabilistically sample a sequence of length `predict_len`\n",
        "\n",
        "**TODO:**\n",
        "\n",
        "**DONE:**\n",
        "* Fill out the evaluate function to generate text frome a primed string\n"
      ]
    },
    {
      "cell_type": "code",
      "metadata": {
        "colab_type": "code",
        "id": "B-bp-OZ1KjNh",
        "colab": {}
      },
      "source": [
        "def evaluate(prime_str='A', predict_len=100, temperature=0.6):\n",
        "  with torch.no_grad():\n",
        "    hidden = decoder.init_hidden()\n",
        "    prediction = prime_str + '' # copies prime_str values, not a ptr\n",
        "    primer_input = char_tensor(prime_str)\n",
        "    all_chars = string.printable \n",
        "    \n",
        "    for char in primer_input[:-1]:\n",
        "      _, hidden = decoder(char, hidden)\n",
        "    \n",
        "    in_char = primer_input[-1]\n",
        "    \n",
        "    for p in range(predict_len):\n",
        "      pred, hidden = decoder(in_char, hidden)\n",
        "      pred_dist = F.softmax(pred.squeeze(0) / temperature, dim=1)\n",
        "      top_idx = torch.multinomial(pred_dist, 1)[0]\n",
        "      \n",
        "      char_decoded = all_chars[top_idx]\n",
        "      in_char = char_tensor(char_decoded)\n",
        "      prediction += char_decoded\n",
        "      \n",
        "  return prediction"
      ],
      "execution_count": 0,
      "outputs": []
    },
    {
      "cell_type": "markdown",
      "metadata": {
        "colab_type": "text",
        "id": "Du4AGA8PcFEW"
      },
      "source": [
        "---\n",
        "\n",
        "## Part 4: (Create a GRU cell, requirements above)\n",
        "\n",
        "---\n"
      ]
    },
    {
      "cell_type": "markdown",
      "metadata": {
        "colab_type": "text",
        "id": "GFS2bpHSZEU6"
      },
      "source": [
        "\n",
        "---\n",
        "\n",
        "## Part 5: Run it and generate some text!\n",
        "\n",
        "---\n",
        "\n",
        "Assuming everything has gone well, you should be able to run the main function in the scaffold code, using either your custom GRU cell or the built in layer, and see output something like this. I trained on the “lotr.txt” dataset, using chunk_length=200, hidden_size=100 for 2000 epochs gave.\n",
        "\n",
        "**TODO:** \n",
        "\n",
        "**DONE:**\n",
        "* Create some cool output\n"
      ]
    },
    {
      "cell_type": "code",
      "metadata": {
        "colab_type": "code",
        "id": "-nXFeCmdKodw",
        "colab": {}
      },
      "source": [
        "import time\n",
        "n_epochs = 5000\n",
        "print_every = 200\n",
        "plot_every = 10\n",
        "hidden_size = 200\n",
        "n_layers = 3\n",
        "lr = 0.001\n",
        " \n",
        "decoder = RNN(n_characters, hidden_size, n_characters, n_layers)\n",
        "decoder_optimizer = torch.optim.Adam(decoder.parameters(), lr=lr)\n",
        "criterion = nn.CrossEntropyLoss()\n",
        " \n",
        "start = time.time()\n",
        "all_losses = []\n",
        "loss_avg = 0"
      ],
      "execution_count": 0,
      "outputs": []
    },
    {
      "cell_type": "code",
      "metadata": {
        "colab_type": "code",
        "id": "xKfozqw-6eqb",
        "outputId": "33da7f89-a17c-4f46-fe7e-1ccc35996866",
        "colab": {
          "base_uri": "https://localhost:8080/",
          "height": 1000
        }
      },
      "source": [
        "for epoch in range(n_epochs):\n",
        "  loss_ = train(*random_training_set())       \n",
        "  loss_avg += loss_\n",
        "\n",
        "  if epoch % print_every == 0:\n",
        "    print('[%s (%d %d%%) %.4f]' % (time.time() - start, epoch, epoch / n_epochs * 100, loss_))\n",
        "    print(evaluate('Wh', predict_len=100, temperature=0.6), '\\n')\n",
        "\n",
        "  if epoch % plot_every == 0:\n",
        "    all_losses.append(loss_avg / plot_every)\n",
        "    loss_avg = 0"
      ],
      "execution_count": 10,
      "outputs": [
        {
          "output_type": "stream",
          "text": [
            "[0.43207693099975586 (0 0%) 921.3820]\n",
            "Wh)f[`[LO}ppZ.;HX+S55tsO-4)g/?s<AAwybZ\u000bAe&1d\u000b{;\u000bLC\rxohE&L#!03H:Zu5A0B9U?KM\f\"1'$.*P[?*\fy'<\fMO4s9pug01,> \n",
            "\n",
            "[78.68216896057129 (200 4%) 435.5261]\n",
            "Whe head to the the thing the the hastint has skinged and the and to the niling the and wat siasA haro \n",
            "\n",
            "[156.43271708488464 (400 8%) 435.5623]\n",
            "Whe and the the are and canstere wore the where and saind the cand. go and cound the kne wather it sai \n",
            "\n",
            "[235.2494945526123 (600 12%) 406.8815]\n",
            "What the lound the stong a down the the it in as at his and that hoult and the do the lonting that wen \n",
            "\n",
            "[314.0422761440277 (800 16%) 350.5024]\n",
            "Whe ~or the long great befreed the dold have sing was and to the were the was to the worder hould they \n",
            "\n",
            "[392.540890455246 (1000 20%) 460.0086]\n",
            "Whord. 'Where the greather the bown be canter now a dow do said dooked were of coald said not of the r \n",
            "\n",
            "[470.6464116573334 (1200 24%) 330.0115]\n",
            "Wh the ride not to the many a the chalking and the greet a long the great he courtherned drouss to the \n",
            "\n",
            "[549.4033305644989 (1400 28%) 346.7403]\n",
            "When his becaust long and about and deal some and the lose in the way a say of the mound a long of the \n",
            "\n",
            "[627.3715200424194 (1600 32%) 338.3292]\n",
            "Whing and they were the was sore on the lare in and said Aragorm the days on the deads of the lead rem \n",
            "\n",
            "[705.8590536117554 (1800 36%) 359.6662]\n",
            "Wher his earsten in the deep howed the long and be had bent and would had bear the will be to good wer \n",
            "\n",
            "[784.5223269462585 (2000 40%) 315.3227]\n",
            "Whis mastally will shister your it was its an the cund the south are at he seen dark before the sound  \n",
            "\n",
            "[863.1632356643677 (2200 44%) 310.5831]\n",
            "Wht and were his eyes. ' he said. 'What have gret what had recrows dister the hobbits of the tong and  \n",
            "\n",
            "[941.0375044345856 (2400 48%) 346.3803]\n",
            "Whing it one on the pass had a leat of the very fear of the with was a grow on time to not was some ro \n",
            "\n",
            "[1019.4295451641083 (2600 52%) 297.6752]\n",
            "Whurre for you have had and shall very many and of the will before the filled and then he was stepped  \n",
            "\n",
            "[1097.1857070922852 (2800 56%) 303.3744]\n",
            "Whe said. 'So the forgotten from the end it is the torthing a stones of the ride the gried flace no be \n",
            "\n",
            "[1175.2767777442932 (3000 60%) 332.1362]\n",
            "Wht of should the news were the words. I have the brand of the even and could was the bring of the bre \n",
            "\n",
            "[1253.0356094837189 (3200 64%) 322.3629]\n",
            "Whree in the door and the days. but from he said the {ound was aland, and a land in the dark the black \n",
            "\n",
            "[1331.2901358604431 (3400 68%) 344.5120]\n",
            "Where is in his glear and closes, and the move the sure the dark to the stones. I may blast on the sou \n",
            "\n",
            "[1409.6878504753113 (3600 72%) 340.7249]\n",
            "Whey swords the worth they had and more now of a string was now would be door. 'garden before the stay \n",
            "\n",
            "[1488.100013256073 (3800 76%) 346.7693]\n",
            "When the said them for the wind. I not know his sudden and were being all down to do his reat and beho \n",
            "\n",
            "[1566.0375900268555 (4000 80%) 290.7711]\n",
            "Where were least to my closes. 'All the same in the making of the hight and was a sturing in a house i \n",
            "\n",
            "[1644.2362251281738 (4200 84%) 271.1827]\n",
            "Where in the staid first swiftly can the ball the small that he countaining still he was for get fear  \n",
            "\n",
            "[1722.5067296028137 (4400 88%) 295.1929]\n",
            "i \n",
            "\n",
            "[1801.0676996707916 (4600 92%) 320.6919]\n",
            "Whill the feet to they coming the door climbed. 'It make the still the mountain so the recout to the l \n",
            "\n",
            "[1878.9033086299896 (4800 96%) 308.3461]\n",
            "Where he with there was and in the hold to know and come were good to a before the strong to faller. ' \n",
            "\n"
          ],
          "name": "stdout"
        }
      ]
    },
    {
      "cell_type": "code",
      "metadata": {
        "id": "VEuBCF1V9LlG",
        "colab_type": "code",
        "colab": {
          "base_uri": "https://localhost:8080/",
          "height": 283
        },
        "outputId": "2bc6e7f2-5562-4091-cf16-7c16d6644cf7"
      },
      "source": [
        "import matplotlib.pyplot as plt\n",
        "\n",
        "plt.figure(1)\n",
        "plt.plot(range(len(all_losses)), all_losses, label='loss')\n",
        "plt.xlabel('Epoch / {}'.format(plot_every))\n",
        "_ = plt.ylabel('Loss')"
      ],
      "execution_count": 13,
      "outputs": [
        {
          "output_type": "display_data",
          "data": {
            "image/png": "[encoded data removed]",
            "text/plain": [
              "<Figure size 432x288 with 1 Axes>"
            ]
          },
          "metadata": {
            "tags": []
          }
        }
      ]
    },
    {
      "cell_type": "code",
      "metadata": {
        "colab_type": "code",
        "id": "Ee0so6aKJ5L8",
        "outputId": "25f8c602-2ded-467b-b855-52ee52825a07",
        "colab": {
          "base_uri": "https://localhost:8080/",
          "height": 577
        }
      },
      "source": [
        "for i in range(10):\n",
        "  start_strings = [\" Th\", \" wh\", \" he\", \" I \", \" ca\", \" G\", \" lo\", \" ra\"]\n",
        "  start = random.randint(0,len(start_strings)-1)\n",
        "  print(start_strings[start])\n",
        "  print(evaluate(start_strings[start], 200, temperature=0.58), '\\n')"
      ],
      "execution_count": 14,
      "outputs": [
        {
          "output_type": "stream",
          "text": [
            " he\n",
            " he was a stark that in the earth and a cliff fall of the failing the name he had all the sandil their had behind her and flew speak you know, them , failings and that in the thing son and then the say,  \n",
            "\n",
            " ra\n",
            " ran here and companions a pressed and lay in the old dark some things that the keeping in the mount of the old the hobbits as the hobbitswered the passing the glanned in the house and strent about the s \n",
            "\n",
            " wh\n",
            " what they seemed the end in the hobbits be shadows of the mind, and the more, so fell in the graves and leet was said on the great in silendand fell, and even a like the shadow. I feared at in the stone \n",
            "\n",
            " ra\n",
            " ran and their faces and dark death the stood things that he leave from the Warl! We had they had though them to shadows of the hissed his far black of speed. I will silend of the dark as he seemed then  \n",
            "\n",
            " wh\n",
            " what the feet the tide the hobbits still though a great great withranding the shadows that was any rears of the great mind his friend, as if you secret in his was all the thing they were steps any all t \n",
            "\n",
            " G\n",
            " Gandalf she was and water his eyes that the hissed. I know the laughed and deep with a side, swerth the still shapes had be should think day near slopped the Gondor had been all shall some in the teath \n",
            "\n",
            " lo\n",
            " long he haster my place of the trees of the shadow and cut that is cross the strung the feet master, if there would ever on a short of the enemy still and deady in the still in the red in the valless to \n",
            "\n",
            " wh\n",
            " which all that well, not so the think side more and the eaves a black a strengthed among the shadow with the fellarmed. I shall light of the rest comes, and the early a starget of the stand and turned t \n",
            "\n",
            " I \n",
            " I do be his forming in his had not know their fell him a while with a lart and their capted the shadow closed in the hobbits be much seeking to the stone that was a while side a still be have cliff the  \n",
            "\n",
            " wh\n",
            " while under the should not gone and thing the sloped then were great feet and that the reckoning on the his was really behind the will ran all the hiss and clothout before the others, might for silled o \n",
            "\n"
          ],
          "name": "stdout"
        }
      ]
    },
    {
      "cell_type": "markdown",
      "metadata": {
        "colab_type": "text",
        "id": "YJhgDc2IauPE"
      },
      "source": [
        "---\n",
        "\n",
        "## Part 6: Generate output on a different dataset\n",
        "\n",
        "---\n",
        "\n",
        "**TODO:**\n",
        "\n",
        "**DONE:**\n",
        "* Choose a textual dataset. Here are some [text datasets](https://www.kaggle.com/datasets?tags=14104-text+data%2C13205-text+mining) from Kaggle \n",
        "\n",
        "* Generate some decent looking results and evaluate your model's performance (say what it did well / not so well)\n",
        "\n"
      ]
    },
    {
      "cell_type": "code",
      "metadata": {
        "id": "cDm_lh3TK1rk",
        "colab_type": "code",
        "colab": {
          "base_uri": "https://localhost:8080/",
          "height": 1000
        },
        "outputId": "386f7921-8ed5-4ff9-9369-0e7c6e2168f9"
      },
      "source": [
        "file = unidecode.unidecode(open('./text_files/alma.txt').read())\n",
        "while file.count('\\n\\n') > 0: # get rid of newline characters\n",
        "  file = file.replace('\\n\\n', '\\n')\n",
        "file = file.replace('\\n', ' ')\n",
        "file = file.replace('  ', ' ')\n",
        "file_len = len(file)\n",
        "print('file_len =', file_len)\n",
        "\n",
        "decoder = RNN(n_characters, hidden_size, n_characters, n_layers)\n",
        "decoder_optimizer = torch.optim.Adam(decoder.parameters(), lr=lr)\n",
        "\n",
        "start = time.time()\n",
        "all_losses = []\n",
        "loss_avg = 0\n",
        "\n",
        "for epoch in range(n_epochs):\n",
        "  loss_ = train(*random_training_set())       \n",
        "  loss_avg += loss_\n",
        "\n",
        "  if epoch % print_every == 0:\n",
        "    print('[%s (%d %d%%) %.4f]' % (time.time() - start, epoch, epoch / n_epochs * 100, loss_))\n",
        "    print(evaluate('Wh', predict_len=100, temperature=0.6), '\\n')\n",
        "\n",
        "  if epoch % plot_every == 0:\n",
        "    all_losses.append(loss_avg / plot_every)\n",
        "    loss_avg = 0\n",
        "    "
      ],
      "execution_count": 16,
      "outputs": [
        {
          "output_type": "stream",
          "text": [
            "file_len = 462561\n",
            "[0.42401838302612305 (0 0%) 915.5421]\n",
            "sK\n",
            "$flFqTa\n",
            "&2ch)FIwDl+A-pOk! 1W|J \n",
            "\n",
            "[79.2475745677948 (200 4%) 529.9556]\n",
            "Whon dested, and the his theay and to were his ow the lad the ahe brey out the wich had or the the and \n",
            "\n",
            "[157.52569270133972 (400 8%) 351.1539]\n",
            "Whre peall ove wards out the kand the shold, who his he should the and to he same that he pare the war \n",
            "\n",
            "[235.7586543560028 (600 12%) 316.1318]\n",
            "Whour sent, the grether and the repites, and the reathere oprering the came said there in the king the \n",
            "\n",
            "[314.26549220085144 (800 16%) 294.0076]\n",
            "What cause and unto the city by the name to that the pearst the chight not came to their his shall the \n",
            "\n",
            "[392.58536982536316 (1000 20%) 320.8643]\n",
            "Whe pass the lands ok is they was the word on the time to that the land o) repent to desaid upon the w \n",
            "\n",
            "[470.9219169616699 (1200 24%) 293.3231]\n",
            "Whe was they words of the words of the people, and came to them and the word was and the words, behold \n",
            "\n",
            "[548.946722984314 (1400 28%) 325.8024]\n",
            "What we were them the such ever the catted to pass that they were feeth the never the easthone the cit \n",
            "\n",
            "[627.3978035449982 (1600 32%) 236.6616]\n",
            "Whe come to calles of the land of the beat the nemle the contruch the landes because that the great th \n",
            "\n",
            "[705.4134631156921 (1800 36%) 277.3738]\n",
            "What he shall have the words of the came to pass that the cause the cause the land of Christ unto thei \n",
            "\n",
            "[782.9518661499023 (2000 40%) 271.4090]\n",
            "What the man freed unto him and that they did being that they wild be said(ent unto the say conceed an \n",
            "\n",
            "[861.1816966533661 (2200 44%) 233.3500]\n",
            "Why did come up their heade the church came to pass the chie caties unto the bode of his do were and w \n",
            "\n",
            "[939.7524337768555 (2400 48%) 236.8701]\n",
            "Whe were no seeption up of the land of men the was slain of when the land of Ammoni that they were and \n",
            "\n",
            "[1017.4682128429413 (2600 52%) 215.0833]\n",
            "Whe fathers of you they went and repented of the land of Ammonihah did faith ye are nearth of the fast \n",
            "\n",
            "[1095.8731527328491 (2800 56%) 291.2395]\n",
            "What he was in my possess, thou works which was with his people which he would such do it came to pass \n",
            "\n",
            "[1174.1669533252716 (3000 60%) 309.4308]\n",
            "Wh with the land of Ammon to this people of the remiest of the people of the time and sent that the re \n",
            "\n",
            "[1252.3119041919708 (3200 64%) 280.6296]\n",
            "Wherefore, they were did bring and them also men and the name to pass that Ammon and ordain to the peo \n",
            "\n",
            "[1330.4516892433167 (3400 68%) 211.6934]\n",
            "Wher would be desired, and they were forth your speaking to the church, and they were not be would not \n",
            "\n",
            "[1408.4405624866486 (3600 72%) 304.0223]\n",
            "Whey had begin to be in surrection of their seed the people of their city of my servants they would se \n",
            "\n",
            "[1486.530178785324 (3800 76%) 214.8030]\n",
            "Whis they did were of the wilderness of the peace of the prosed a come and prosted unto them# the land \n",
            "\n",
            "[1564.6463119983673 (4000 80%) 192.3257]\n",
            "Wherefore he had should have the toulf, that which was have hearts which is into the things, and the p \n",
            "\n",
            "[1642.655018568039 (4200 84%) 286.8642]\n",
            "Whis harden the people of valled their earthound the city of Ammonihah, and your brethren were people  \n",
            "\n",
            "[1720.8112652301788 (4400 88%) 206.3402]\n",
            "Wh might be the truth of the things which he did hast not come the truth by the set that he could and  \n",
            "\n",
            "[1798.5128169059753 (4600 92%) 178.9247]\n",
            "Wh\fer this therefore they were stronged by this people of Do are things we should be are from this peo \n",
            "\n",
            "[1877.1210763454437 (4800 96%) 247.5945]\n",
            "Wh the river unto us did not be that there was a pass that they took their spirit of even according to \n",
            "\n",
            " pa\n",
            " part of the land which the land of the people of Ammonihah, that they were also destroy their wilderness all many to slain of the armies of his name all the seding to the people of $urch which it came t \n",
            "\n",
            " my\n",
            " my are be bring the people of Moses to the land which was the name of the word we did save their wound, and they had also take and the people of day of the land of Uurchation, that they are teach the pl \n",
            "\n",
            " he\n",
            " he was and his heart of the word were concerning the land of Ammonihah, that the words of the word his destruction, and his words which they had stop of the forth and a see before the wildersh the land  \n",
            "\n",
            " ca\n",
            " cause of the land of (and he did not son, they were not the people of the land of 0one hearts of the borders of the city of Ammon and they were strengthen the true of the land of heart, they had not all \n",
            "\n",
            " he\n",
            " he did come unto you that when the sins of the ware of the sword of Ammon and their words of the land of the land of Ammonihah to the name of the seashored to his should be many to the destrophed in the \n",
            "\n",
            " he\n",
            " he have been under the people of Ammoroni and the way unto the land of Antipus to gold that the way of the land of the land of the first and the forth year of the word of should not forth to the word, i \n",
            "\n",
            " Th\n",
            " The hands of the name were borders of the in the land of unto the words of sparing to the church were strong to the cause of the wilderness their words of the land of Antipus not the land of heard them  \n",
            "\n",
            " ca\n",
            " cause of all the land of Ammonihah were also his said unto the time to the people of the earth, and also reclich the word which they had great were seed on the arrightened that they were not be desire o \n",
            "\n",
            " wh\n",
            " who had been declare to righteousness the land of Ammon, to the land of Ammon, and have been unto the people of For the word, they had been people of the true to the came to pass that they were a many t \n",
            "\n",
            " ca\n",
            " cause, the land to great place of the armies of the land of \\owh were also lay to command thee was an also caused the hands of our brethren which was in the thing to the word round and the land of Antip \n",
            "\n"
          ],
          "name": "stdout"
        },
        {
          "output_type": "display_data",
          "data": {
            "image/png": "[encoded data removed]",
            "text/plain": [
              "<Figure size 432x288 with 1 Axes>"
            ]
          },
          "metadata": {
            "tags": []
          }
        }
      ]
    },
    {
      "cell_type": "code",
      "metadata": {
        "id": "TzAoc6QiVBew",
        "colab_type": "code",
        "colab": {
          "base_uri": "https://localhost:8080/",
          "height": 283
        },
        "outputId": "4b24bc80-4286-47aa-f709-a245c1b9521f"
      },
      "source": [
        "plt.figure(1)\n",
        "plt.plot(range(len(all_losses)), all_losses, label='loss')\n",
        "plt.xlabel('Epoch / {}'.format(plot_every))\n",
        "_ = plt.ylabel('Loss')"
      ],
      "execution_count": 19,
      "outputs": [
        {
          "output_type": "display_data",
          "data": {
            "image/png": "[encoded data removed]",
            "text/plain": [
              "<Figure size 432x288 with 1 Axes>"
            ]
          },
          "metadata": {
            "tags": []
          }
        }
      ]
    },
    {
      "cell_type": "code",
      "metadata": {
        "id": "2klHBiGTVFB5",
        "colab_type": "code",
        "colab": {
          "base_uri": "https://localhost:8080/",
          "height": 577
        },
        "outputId": "32412055-6c92-4860-c1b4-395659a21a61"
      },
      "source": [
        "for i in range(10):\n",
        "  start_strings = [\" Th\", \" wh\", \" he\", \" An \", \" ca\", \" my\", \" pr\", \" pa\"]\n",
        "  start = random.randint(0,len(start_strings)-1)\n",
        "  print(start_strings[start])\n",
        "  print(evaluate(start_strings[start], 200, temperature=0.58), '\\n')"
      ],
      "execution_count": 18,
      "outputs": [
        {
          "output_type": "stream",
          "text": [
            " Th\n",
            " The trust of the word which was a should be the people of the word, that he did take with the people of the words of the marchful were strength and the people of Ompering that their slain the was and th \n",
            "\n",
            " he\n",
            " he had from the name of the seashoren of the land of my caused to the word of the land of Alma and their wilderness of their name, that he throwest to destroyed to the son of the 2nd into the people of  \n",
            "\n",
            " my\n",
            " my prison, and they had gathered the land of 3nto the people of his brethren and the land of his heard to his son, they were such appointed with the end their great was must and the seashore to reston t \n",
            "\n",
            " Th\n",
            " The time and his great not be that a stand to the land of the Uram, who were firth of the word, and the seast of the twirt of their fied and the land which the word of Ammon and also their brethren and  \n",
            "\n",
            " he\n",
            " he were aloned to the word of the land of the land of Antions to the land of Even the wilderness which is a great they should be commanded the sword of the land of Antified to the land of Antipus and he \n",
            "\n",
            " pa\n",
            " part of the people of the land with the commanded to be a fallen the armies of the 4on and the time of the land of }urst in all the falles and the land of Ontiful in the word to the land of Ammon, and t \n",
            "\n",
            " Th\n",
            " The fallen to the land of Lamonihah, who were take the land of the land of Ammon, the slain of the word and the people of Ammon had also deptain the land of Ammon and fear to the strength to the sword t \n",
            "\n",
            " ca\n",
            " caused that he began to pass that they were not believe that they were as the people of heard to the seashore had been themness--Ammon, and the land of the did feen should gran and the land of the peopl \n",
            "\n",
            " he\n",
            " he was been to pass that they would are the land of `how, and the reign of the remies of their wilderness which they were also fallen of the hands of the heart of death and the land you that he was to s \n",
            "\n",
            " An \n",
            " An were also part of his brethren and cast to gold unto him to good forth and so sent and the blood of their words as to slain cast the reign of the people of ? of the epossession of the land of men to t \n",
            "\n"
          ],
          "name": "stdout"
        }
      ]
    },
    {
      "cell_type": "markdown",
      "metadata": {
        "id": "EHYr-sNZSHL7",
        "colab_type": "text"
      },
      "source": [
        "Things the RNN did well:\n",
        "- For the most part, outputs real words\n",
        "- Picked up on names of people and places\n",
        "- Caught onto general style (words like repent, faith, ordain, wilderness, etc.)\n",
        "\n",
        "Things it didn't do so well:\n",
        "- Form coherent senteces\n",
        "- Proper grammer\n",
        "- Used random symbols sometimes (#,%,<, etc.)"
      ]
    }
  ]
}