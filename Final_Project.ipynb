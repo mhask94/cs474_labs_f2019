{
  "nbformat": 4,
  "nbformat_minor": 0,
  "metadata": {
    "kernelspec": {
      "name": "python3",
      "display_name": "Python 3"
    },
    "language_info": {
      "codemirror_mode": {
        "name": "ipython",
        "version": 3
      },
      "file_extension": ".py",
      "mimetype": "text/x-python",
      "name": "python",
      "nbconvert_exporter": "python",
      "pygments_lexer": "ipython3",
      "version": "3.6.8"
    },
    "colab": {
      "name": "Final_Project.ipynb",
      "provenance": [],
      "include_colab_link": true
    },
    "accelerator": "GPU"
  },
  "cells": [
    {
      "cell_type": "markdown",
      "metadata": {
        "id": "view-in-github",
        "colab_type": "text"
      },
      "source": [
        "<a href=\"https://colab.research.google.com/github/mhask94/cs474_labs_f2019/blob/conv2linear/Final_Project.ipynb\" target=\"_parent\"><img src=\"https://colab.research.google.com/assets/colab-badge.svg\" alt=\"Open In Colab\"/></a>"
      ]
    },
    {
      "cell_type": "code",
      "metadata": {
        "id": "mkpLgBkLMSCk",
        "colab_type": "code",
        "outputId": "a4f77b93-406d-4789-faa8-1074cb792e77",
        "colab": {
          "base_uri": "https://localhost:8080/",
          "height": 35
        }
      },
      "source": [
        "# imports for training data\n",
        "!if ( ! ls . | grep pytransform ); then git clone https://github.com/mhask94/pytransform.git; fi\n",
        "# !git clone https://github.com/mhask94/pytransform.git\n",
        "from pytransform.common import skew\n",
        "from pytransform.quaternion import Quaternion as Quat\n",
        "import numpy as np"
      ],
      "execution_count": 1,
      "outputs": [
        {
          "output_type": "stream",
          "text": [
            "pytransform\n"
          ],
          "name": "stdout"
        }
      ]
    },
    {
      "cell_type": "code",
      "metadata": {
        "id": "zFbSU4rzH849",
        "colab_type": "code",
        "colab": {}
      },
      "source": [
        "# imports for pytorch\n",
        "import torch\n",
        "import torch.nn as nn\n",
        "from torch.autograd import Variable\n",
        "from tqdm import tqdm\n",
        "%matplotlib inline\n",
        "import matplotlib.pyplot as plt\n",
        "\n",
        "from IPython.core.debugger import set_trace"
      ],
      "execution_count": 0,
      "outputs": []
    },
    {
      "cell_type": "code",
      "metadata": {
        "id": "73-GfR1p7usv",
        "colab_type": "code",
        "colab": {}
      },
      "source": [
        "# classes for quadrotor state and dynamics\n",
        "class State():\n",
        "    def __init__(self, arr=np.empty(0)):\n",
        "        if len(arr) == 0:\n",
        "            self.arr = np.zeros((10,1), dtype=np.float64)\n",
        "            self.arr[3] = 1\n",
        "        else:\n",
        "            assert arr.shape == (10, 1)\n",
        "            if not arr.dtype == np.float64:\n",
        "              arr = np.array(arr, dtype=np.float64)\n",
        "            arr.dtype = np.float64\n",
        "            self.arr = arr\n",
        "\n",
        "    def __getitem__(self, position):\n",
        "        return self.arr[position]\n",
        "    def __str__(self):\n",
        "        s = 'p: ' + str(self.p.flatten()) + '\\nq: ' + self.q.__str__() + \\\n",
        "                '\\nv: ' + str(self.v.flatten())\n",
        "        s = s.replace('[ ', '[')\n",
        "        s = s.replace(', ', ' ')\n",
        "        s = s.replace(' ]', ']')\n",
        "        return s\n",
        "    def __repr__(self):\n",
        "        return self.__str__()\n",
        "    def __add__(self, other):\n",
        "        assert other.shape == (9, 1)\n",
        "        out = np.empty(self.arr.shape)\n",
        "        out[:3]  = self.p + other[:3]\n",
        "        out[3:7] = (self.q + other[3:6]).elements\n",
        "        out[7:]  = self.v + other[6:]\n",
        "        return State(out)\n",
        "    def __iadd__(self, other):\n",
        "        assert other.shape == (9, 1)\n",
        "        self.arr[:3] += other[:3]\n",
        "        self.arr[3:7] = (self.q + other[3:6]).elements\n",
        "        self.arr[7:] += other[6:]\n",
        "        return self\n",
        "    @property\n",
        "    def p(self):\n",
        "        return self.arr[:3]\n",
        "    @property\n",
        "    def q(self):\n",
        "        return Quat(self.arr[3:7])\n",
        "    @property\n",
        "    def v(self):\n",
        "        return self.arr[7:]\n",
        "    @property\n",
        "    def elements(self):\n",
        "        return self.arr.copy()\n",
        "    def copy(self):\n",
        "        return State(self.arr.copy())\n",
        "\n",
        "class Dynamics():\n",
        "    def __init__(self):\n",
        "        self.k1 = np.zeros((9,1))\n",
        "        self.k2 = np.zeros((9,1))\n",
        "        self.k3 = np.zeros((9,1))\n",
        "        self.k4 = np.zeros((9,1))\n",
        "        self.cd = 0.1\n",
        "        e_z = np.array([[0,0,1]]).T\n",
        "        self.g = 9.8065 * e_z\n",
        "        self.se = 0.5\n",
        "\n",
        "    def run(self, xu, dt):\n",
        "        x,u = State(xu[:10]), xu[10:]\n",
        "        self.k1 = self.f(x, u)\n",
        "        self.k2 = self.f(x + self.k1*(dt/2), u)\n",
        "        self.k3 = self.f(x + self.k2*(dt/2), u)\n",
        "        self.k4 = self.f(x + self.k3*dt, u)\n",
        "        # x += (self.k1 + 2*(self.k2 + self.k3) + self.k4) * (dt/6)\n",
        "        return x + (self.k1 + 2*(self.k2 + self.k3) + self.k4) * (dt/6)\n",
        "\n",
        "    def f(self, x, u):\n",
        "        s, w = u[0], u[1:]\n",
        "        dx = np.empty(self.k1.shape)\n",
        "        dx[:3] = x.q.rota(x.v)\n",
        "        dx[3:6] = w\n",
        "        dx[6:] = -self.g*(s/self.se) - self.cd*x.v + x.q.rotp(self.g) - \\\n",
        "                skew(w) @ x.v\n",
        "        return dx\n",
        "\n",
        "    @property\n",
        "    def state(self):\n",
        "        return self.x.copy()"
      ],
      "execution_count": 0,
      "outputs": []
    },
    {
      "cell_type": "code",
      "metadata": {
        "id": "oER-ve3bviM-",
        "colab_type": "code",
        "colab": {}
      },
      "source": [
        "class DataGenerator():\n",
        "  def __init__(self, num_states, num_inputs, dt=0.01, batch_size=50):\n",
        "    self.n = num_states\n",
        "    self.m = num_inputs\n",
        "    self.dt = dt\n",
        "    self.batch_size = batch_size\n",
        "    self.pos_lim = 50\n",
        "    self.att_lim = np.pi/3.5\n",
        "    self.vel_lim = 10\n",
        "    self.rate_lim = np.pi\n",
        "    self.s_lim = 1\n",
        "    self.dyn = Dynamics()\n",
        "\n",
        "  def getRandomInput(self):\n",
        "    xu = np.empty(self.n + self.m)\n",
        "    xu[:2] = np.random.uniform(-self.pos_lim, self.pos_lim, 2)\n",
        "    xu[2] = np.random.uniform(-self.pos_lim, 0)\n",
        "    mask = np.random.uniform(size=3) > 0.2\n",
        "    euler = np.random.uniform(-self.att_lim, self.att_lim, 3) * mask\n",
        "    xu[3:7] = Quat.from_euler(*euler).elements.flatten()\n",
        "    xu[7:10] = np.random.uniform(-self.vel_lim, self.vel_lim, 3)\n",
        "    xu[10] = np.random.uniform(0, self.s_lim)\n",
        "    xu[11:] = np.random.uniform(-self.rate_lim, self.rate_lim, 3)\n",
        "    return xu\n",
        "\n",
        "  def getBatch(self):\n",
        "    batch_in = np.empty((self.batch_size, self.n+self.m))\n",
        "    batch_out = np.empty((self.batch_size, self.n))\n",
        "    for i in range(self.batch_size):\n",
        "      batch_in[i] = self.getRandomInput()\n",
        "      batch_out[i] = self.dyn.run(batch_in[i].reshape(-1,1), self.dt).elements.flatten()\n",
        "    return batch_in, batch_out"
      ],
      "execution_count": 0,
      "outputs": []
    },
    {
      "cell_type": "code",
      "metadata": {
        "id": "P4SMzucDAkn5",
        "colab_type": "code",
        "outputId": "163ca357-80b2-4127-b441-c44ad1435a0e",
        "colab": {
          "base_uri": "https://localhost:8080/",
          "height": 402
        }
      },
      "source": [
        "def testGen():\n",
        "  data_gen = DataGenerator(10,4,dt=0.01,batch_size=2)\n",
        "  ran = data_gen.getRandomInput()\n",
        "  print('rand: ', ran)\n",
        "\n",
        "  x, truth = data_gen.getBatch()\n",
        "  print('x: \\n', x)\n",
        "  print('truth: \\n', truth)\n",
        "\n",
        "  dyn = Dynamics()\n",
        "  for i, state in enumerate(x):\n",
        "    state = state.reshape(-1,1)\n",
        "    out = dyn.run(state, 0.01).elements.flatten()\n",
        "    error = out - truth[i]\n",
        "    norm = np.sqrt(error @ error)\n",
        "    print('norm: ', norm)\n",
        "\n",
        "testGen()"
      ],
      "execution_count": 5,
      "outputs": [
        {
          "output_type": "stream",
          "text": [
            "rand:  [ 2.75936258e+01 -1.73089776e+01 -3.54717030e+01  9.99712791e-01\n",
            "  0.00000000e+00 -2.39653168e-02  0.00000000e+00  1.22622049e+00\n",
            "  7.58786927e+00  7.92926085e+00  8.57177888e-01 -2.27884659e+00\n",
            " -3.05342169e+00 -1.88735337e+00]\n",
            "x: \n",
            " [[-1.03185866e+01 -3.87230079e+01 -4.65416270e+01  8.84354899e-01\n",
            "   1.18946817e-01 -3.88429472e-01 -2.29979591e-01 -1.62669139e+00\n",
            "  -7.15056905e+00 -7.36212226e+00  7.66513702e-01 -1.88145468e+00\n",
            "  -4.49874075e-01 -1.35745620e+00]\n",
            " [-4.33865105e+01 -1.43136318e+01 -6.40574177e+00  9.04050169e-01\n",
            "  -1.80586277e-02 -3.19024171e-01 -2.83885112e-01  8.70532583e+00\n",
            "   9.12577907e+00  9.30118840e+00  8.36135920e-01 -1.01610418e+00\n",
            "   1.85659858e+00 -7.41482520e-01]]\n",
            "truth: \n",
            " [[-1.02955505e+01 -3.87744260e+01 -4.66290247e+01  8.82977500e-01\n",
            "   1.12738359e-01 -3.87420813e-01 -2.39887288e-01 -1.50085163e+00\n",
            "  -6.98634232e+00 -7.56504179e+00]\n",
            " [-4.33355788e+01 -1.42611402e+01 -6.26730090e+00  9.05810570e-01\n",
            "  -1.88324643e-02 -3.09236695e-01 -2.89007292e-01  8.51178234e+00\n",
            "   9.09955997e+00  9.45888910e+00]]\n",
            "norm:  0.0\n",
            "norm:  0.0\n"
          ],
          "name": "stdout"
        }
      ]
    },
    {
      "cell_type": "code",
      "metadata": {
        "id": "4XvwSOVc3-Sy",
        "colab_type": "code",
        "outputId": "d2734893-b285-48f4-f82d-c25c68a4c1e0",
        "colab": {
          "base_uri": "https://localhost:8080/",
          "height": 52
        }
      },
      "source": [
        "def testLinearSize():\n",
        "  inputs = 14\n",
        "  outputs = 10\n",
        "  batch = 1\n",
        "  x_test = torch.zeros(batch,inputs)\n",
        "  up = nn.Linear(inputs, 50)\n",
        "  up_test = up(x_test)\n",
        "  print('up: ', up_test.size())\n",
        "\n",
        "  down = nn.Linear(50, outputs)\n",
        "  down_test = down(up_test)\n",
        "  print('down: ', down_test.size())\n",
        "\n",
        "testLinearSize()"
      ],
      "execution_count": 6,
      "outputs": [
        {
          "output_type": "stream",
          "text": [
            "up:  torch.Size([1, 50])\n",
            "down:  torch.Size([1, 10])\n"
          ],
          "name": "stdout"
        }
      ]
    },
    {
      "cell_type": "code",
      "metadata": {
        "id": "h9EXL6hvwr08",
        "colab_type": "code",
        "colab": {}
      },
      "source": [
        "class ResBlock(nn.Module):\n",
        "  def __init__(self, dim_in, dim_out, skip=False, end_activation=False):\n",
        "    super(ResBlock, self).__init__()\n",
        "    self.skip = skip\n",
        "    self.end_act = end_activation\n",
        "    self.activation = nn.ReLU()\n",
        "    self.layer1 = nn.Linear(dim_in, dim_in)\n",
        "    self.layer2 = nn.Linear(dim_in, dim_in)\n",
        "    self.layer3 = nn.Linear(dim_in, dim_out)\n",
        "\n",
        "  def forward(self, x):\n",
        "    out1 = self.activation(self.layer1(x))\n",
        "    out2 = self.activation(self.layer2(out1))\n",
        "    skip = out2 + out1\n",
        "    if self.end_act:\n",
        "      out3 = self.activation(self.layer3(skip))\n",
        "    else:\n",
        "      out3 = self.layer3(skip)\n",
        "    if self.skip:\n",
        "      return skip, out3\n",
        "    else:\n",
        "      return out3\n",
        "\n",
        "class DynamicsNN(nn.Module):\n",
        "  def __init__(self, num_states, num_inputs, dt):\n",
        "    super(DynamicsNN, self).__init__()\n",
        "    self.dt = dt\n",
        "    self.activation = nn.ReLU()\n",
        "    self.up1 = nn.Linear(num_states+num_inputs, 100)\n",
        "    self.up2 = ResBlock(100,  200, skip=True)\n",
        "    self.up3 = ResBlock(200, 400, skip=True)\n",
        "    self.dn1 = ResBlock(400, 200)\n",
        "    self.dn2 = ResBlock(200, 100)\n",
        "    self.dn3 = ResBlock(100,  num_states, end_activation=True)\n",
        "\n",
        "  def forward(self, x):\n",
        "    up1 = self.activation(self.up1(x))\n",
        "    skip1, up2 = self.up2(up1)\n",
        "    skip2, up3 = self.up3(up2)\n",
        "    down1 = self.dn1(up3)\n",
        "    down2 = self.dn2(skip2 + down1)\n",
        "    down3 = self.dn3(skip1 + down2)\n",
        "    p = down3[:,:3] + x[:,:3] + x[:,7:10]*self.dt\n",
        "    w = torch.zeros_like(down3[:,3:7])\n",
        "    w[:,1:] = x[:,11:]\n",
        "    q = down3[:,3:7] + x[:,3:7] + w*self.dt\n",
        "    q1 = torch.zeros_like(q)\n",
        "    q1 = q / torch.norm(q, dim=1, keepdim=True)\n",
        "    # was getting nans here, but removing ReLU on output layer fixed it\n",
        "    # norm = torch.norm(q, dim=1)\n",
        "    # mask = norm != 0.0\n",
        "    # q1[mask] = q[mask] / norm[mask].unsqueeze(-1)\n",
        "    v = down3[:,7:] + x[:,7:10]\n",
        "    out = torch.cat((p,q1,v), dim=1)\n",
        "    return out"
      ],
      "execution_count": 0,
      "outputs": []
    },
    {
      "cell_type": "code",
      "metadata": {
        "id": "tV0Mc_4YUWlt",
        "colab_type": "code",
        "outputId": "c2f988dc-b3f7-49a6-8620-c37533eceebe",
        "colab": {
          "base_uri": "https://localhost:8080/",
          "height": 175
        }
      },
      "source": [
        "def testNet():\n",
        "  n = 10\n",
        "  m = 4\n",
        "  dt = 0.01\n",
        "  x_test = torch.randn(2,n+m)\n",
        "  print('x_test: ', x_test)\n",
        "  net = DynamicsNN(n,m, dt)\n",
        "  test = net(x_test)\n",
        "  print('shape: ', test.shape)\n",
        "  print('output: ', test)\n",
        "\n",
        "testNet()"
      ],
      "execution_count": 8,
      "outputs": [
        {
          "output_type": "stream",
          "text": [
            "x_test:  tensor([[ 0.0384,  0.0245, -0.3869, -1.0986, -1.3262, -0.5020,  1.4298, -2.3050,\n",
            "         -1.9592,  1.3372, -0.2858,  0.2833,  0.8652,  0.8989],\n",
            "        [ 1.6104,  0.2954, -1.5759, -0.3991, -1.5973, -0.8956,  1.8757, -0.1768,\n",
            "          0.3394,  0.9204,  0.1510, -0.3747,  0.3136,  0.4136]])\n",
            "shape:  torch.Size([2, 10])\n",
            "output:  tensor([[ 0.0154,  0.0639, -0.3546, -0.4711, -0.5239, -0.2302,  0.6712, -2.2166,\n",
            "         -1.9592,  1.3372],\n",
            "        [ 1.6087,  0.3391, -1.5345, -0.1082, -0.5512, -0.3503,  0.7496, -0.0105,\n",
            "          0.3394,  0.9204]], grad_fn=<CatBackward>)\n"
          ],
          "name": "stdout"
        }
      ]
    },
    {
      "cell_type": "code",
      "metadata": {
        "id": "JSv0Pa_ezzXY",
        "colab_type": "code",
        "colab": {}
      },
      "source": [
        "def calcLoss(loss_fn, truth, pred):\n",
        "  position_loss = loss_fn(pred[:,:3], truth[:,:3])\n",
        "  attitude_loss = loss_fn(pred[:,3:7], truth[:,3:7])*100\n",
        "  velocity_loss = loss_fn(pred[:,7:], truth[:,7:])\n",
        "  loss = position_loss + attitude_loss + velocity_loss\n",
        "  return loss\n",
        "\n",
        "def validate(model, dt, optimizer, loss_fn):\n",
        "  with torch.no_grad():\n",
        "    dyn = Dynamics()\n",
        "    x0 = np.array([0.,0,-5,1,0,0,0,0,0,0])\n",
        "    low = np.zeros(4)\n",
        "    low[1:] = -np.pi\n",
        "    high = np.ones(4)\n",
        "    high[1:] = np.pi\n",
        "    u_vals = np.array([[0.7, 0, 0, 0],  # go up\n",
        "                       [0.4, 0, 0, 0],  # go down\n",
        "                       [0.5, 1, 0, 0],  # roll right\n",
        "                       [0.5, -1, 0, 0], # roll left\n",
        "                       [0.5, 0, 1, 0],  # pitch backward\n",
        "                       [0.5, 0, -1, 0], # pitch foreward\n",
        "                       [0.5, 0, 0, 1],  # yaw right\n",
        "                       [0.5, 0, 0, -1], # yaw left\n",
        "                       [0.6, 1, 1, 0],  # pitch and roll\n",
        "                       [.6, -1, -1, 0], # pitch and roll\n",
        "                       [0.6, 1, -1, 0], # pitch and roll\n",
        "                       [0.6, -1, 1, 0], # pitch and roll\n",
        "                       np.random.uniform(low=low, high=high, size=4),\n",
        "                       np.random.uniform(low=low, high=high, size=4),\n",
        "                       np.random.uniform(low=low, high=high, size=4),\n",
        "                       np.random.uniform(low=low, high=high, size=4),\n",
        "                       np.random.uniform(low=low, high=high, size=4),\n",
        "                       np.random.uniform(low=low, high=high, size=4),\n",
        "                       np.random.uniform(low=low, high=high, size=4),\n",
        "                       np.random.uniform(low=low, high=high, size=4),\n",
        "                       ])\n",
        "    \n",
        "    v_k = np.block([np.tile(x0, (len(u_vals),1)), u_vals])\n",
        "    truth = np.zeros((len(u_vals), 10))\n",
        "    for i in range(len(u_vals)):\n",
        "      truth[i] = dyn.run(v_k[i].reshape(-1,1), dt).elements.flatten()\n",
        "    \n",
        "    truth = torch.from_numpy(truth).float().cuda()\n",
        "    v_k = torch.from_numpy(v_k).float().cuda()\n",
        "    \n",
        "    pred = model(v_k)\n",
        "\n",
        "    loss = calcLoss(loss_fn, truth, pred).item()\n",
        "    return loss"
      ],
      "execution_count": 0,
      "outputs": []
    },
    {
      "cell_type": "code",
      "metadata": {
        "id": "uQ_yf9ICTpBo",
        "colab_type": "code",
        "outputId": "6d361903-879f-449f-946b-ea3783302ec2",
        "colab": {
          "base_uri": "https://localhost:8080/",
          "height": 471
        }
      },
      "source": [
        "def train(save_model):\n",
        "  n = 10\n",
        "  m = 4\n",
        "  dt = 0.01\n",
        "  model = DynamicsNN(n, m, dt).cuda()\n",
        "\n",
        "  lr = 1e-5\n",
        "  optimizer = torch.optim.Adam(model.parameters(), lr)\n",
        "  loss_fn = nn.MSELoss()\n",
        "\n",
        "  epochs = 1000\n",
        "  batch_size = 500\n",
        "  data_gen = DataGenerator(n, m, dt, batch_size)\n",
        "\n",
        "  save_every = 10\n",
        "  decay_every = 100\n",
        "  validate_every = 50\n",
        "\n",
        "  epoch_hist = []\n",
        "  loss_hist = []\n",
        "  v_loss_hist = []\n",
        "  v_epoch_hist = []\n",
        "\n",
        "  num_nans = 0\n",
        "\n",
        "  last_l = 0\n",
        "  last_e = 0\n",
        "  info = tqdm(total=epochs, position=0, leave=False)\n",
        "  for epoch in range(epochs):\n",
        "    optimizer.zero_grad()\n",
        "\n",
        "    xu_t, x_tp1 = data_gen.getBatch()\n",
        "    in_var = Variable(torch.from_numpy(xu_t).float(), requires_grad=True).cuda()\n",
        "    out_truth = Variable(torch.from_numpy(x_tp1).float(), requires_grad=False).cuda()\n",
        "\n",
        "    out_pred = model(in_var)\n",
        "\n",
        "    loss = calcLoss(loss_fn, out_truth, out_pred)\n",
        "\n",
        "    loss.backward()\n",
        "    optimizer.step()\n",
        "\n",
        "    # was getting nans in out_pred and loss because / by 0 in norm calculation \n",
        "    # until I removed ReLU from last layer\n",
        "    loss = loss.item()\n",
        "    if np.isnan(loss):\n",
        "      num_nans += 1\n",
        "\n",
        "    if epoch % validate_every == 0:\n",
        "      v_loss_hist.append(validate(model, dt, optimizer, loss_fn))\n",
        "      v_epoch_hist.append(epoch)\n",
        "\n",
        "    if epoch % save_every == 0:\n",
        "      last_l = loss\n",
        "      epoch_hist.append(epoch)\n",
        "      loss_hist.append(loss)\n",
        "      if save_model:\n",
        "        torch.save(model, 'learned_quadrotor_model.pt')\n",
        "    \n",
        "    if epoch % decay_every == 0:\n",
        "      lr *= 0.9\n",
        "      for param_group in optimizer.param_groups:\n",
        "        param_group['lr'] = lr\n",
        "    \n",
        "    info.set_description('Last saved loss: {:.3f}'.format(last_l))\n",
        "    info.update(1)\n",
        "  \n",
        "  fig, ax = plt.subplots()\n",
        "  train_losses, = ax.plot(epoch_hist, loss_hist, 'b', label='train')\n",
        "  val_losses, = ax.plot(v_epoch_hist, v_loss_hist, 'r', label='validate')\n",
        "  ax.set_xlabel('Epoch')\n",
        "  ax.set_ylabel('Loss')\n",
        "  ax.legend()\n",
        "  print('\\nNans: ', num_nans)\n",
        "  print('sample input: ', xu_t[0])\n",
        "  print('true output: ', x_tp1[0])\n",
        "  print('predicted output: ', out_pred[0])\n",
        "  plt.show()\n",
        "\n",
        "train(save_model=False)"
      ],
      "execution_count": 29,
      "outputs": [
        {
          "output_type": "stream",
          "text": [
            ""
          ],
          "name": "stderr"
        },
        {
          "output_type": "stream",
          "text": [
            "\n",
            "Nans:  0\n",
            "sample input:  [ 12.81297009 -47.87616067 -36.23742365   0.97612334   0.\n",
            "   0.           0.21721698  -8.30838432  -1.37638559  -8.77966178\n",
            "   0.37354556   1.72504372   0.49738194  -2.98550099]\n",
            "true output:  [ 1.27435966e+01 -4.79238328e+01 -3.63250524e+01  9.79217609e-01\n",
            "  7.87867978e-03  4.30085706e-03  2.02613682e-01 -8.20974514e+00\n",
            " -1.77186379e+00 -8.76001674e+00]\n",
            "predicted output:  tensor([ 1.2960e+01, -4.7890e+01, -3.6325e+01,  9.8191e-01,  1.7353e-02,\n",
            "         5.0033e-03,  1.8847e-01, -8.3084e+00, -1.3764e+00, -8.7797e+00],\n",
            "       device='cuda:0', grad_fn=<SelectBackward>)\n"
          ],
          "name": "stdout"
        },
        {
          "output_type": "display_data",
          "data": {
            "image/png": "[encoded data removed]",
            "text/plain": [
              "<Figure size 432x288 with 1 Axes>"
            ]
          },
          "metadata": {
            "tags": []
          }
        },
        {
          "output_type": "stream",
          "text": [
            ""
          ],
          "name": "stderr"
        }
      ]
    }
  ]
}