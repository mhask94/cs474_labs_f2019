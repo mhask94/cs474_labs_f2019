{
  "nbformat": 4,
  "nbformat_minor": 0,
  "metadata": {
    "kernelspec": {
      "display_name": "Python 3",
      "language": "python",
      "name": "python3"
    },
    "language_info": {
      "codemirror_mode": {
        "name": "ipython",
        "version": 3
      },
      "file_extension": ".py",
      "mimetype": "text/x-python",
      "name": "python",
      "nbconvert_exporter": "python",
      "pygments_lexer": "ipython3",
      "version": "3.6.8"
    },
    "colab": {
      "name": "Final_Project.ipynb",
      "provenance": [],
      "include_colab_link": true
    }
  },
  "cells": [
    {
      "cell_type": "markdown",
      "metadata": {
        "id": "view-in-github",
        "colab_type": "text"
      },
      "source": [
        "<a href=\"https://colab.research.google.com/github/mhask94/cs474_labs_f2019/blob/conv2linear/Final_Project.ipynb\" target=\"_parent\"><img src=\"https://colab.research.google.com/assets/colab-badge.svg\" alt=\"Open In Colab\"/></a>"
      ]
    },
    {
      "cell_type": "code",
      "metadata": {
        "id": "mkpLgBkLMSCk",
        "colab_type": "code",
        "outputId": "aabd0334-17fb-448c-c13c-d8ad20cae2c4",
        "colab": {
          "base_uri": "https://localhost:8080/",
          "height": 125
        }
      },
      "source": [
        "# imports for training data\n",
        "!if ( ! ls . | grep pytransform ); then git clone https://github.com/mhask94/pytransform.git; fi\n",
        "# !git clone https://github.com/mhask94/pytransform.git\n",
        "from pytransform.common import skew\n",
        "from pytransform.quaternion import Quaternion as Quat\n",
        "import numpy as np"
      ],
      "execution_count": 2,
      "outputs": [
        {
          "output_type": "stream",
          "text": [
            "Cloning into 'pytransform'...\n",
            "remote: Enumerating objects: 14, done.\u001b[K\n",
            "remote: Counting objects:   7% (1/14)\u001b[K\rremote: Counting objects:  14% (2/14)\u001b[K\rremote: Counting objects:  21% (3/14)\u001b[K\rremote: Counting objects:  28% (4/14)\u001b[K\rremote: Counting objects:  35% (5/14)\u001b[K\rremote: Counting objects:  42% (6/14)\u001b[K\rremote: Counting objects:  50% (7/14)\u001b[K\rremote: Counting objects:  57% (8/14)\u001b[K\rremote: Counting objects:  64% (9/14)\u001b[K\rremote: Counting objects:  71% (10/14)\u001b[K\rremote: Counting objects:  78% (11/14)\u001b[K\rremote: Counting objects:  85% (12/14)\u001b[K\rremote: Counting objects:  92% (13/14)\u001b[K\rremote: Counting objects: 100% (14/14)\u001b[K\rremote: Counting objects: 100% (14/14), done.\u001b[K\n",
            "remote: Compressing objects:  12% (1/8)\u001b[K\rremote: Compressing objects:  25% (2/8)\u001b[K\rremote: Compressing objects:  37% (3/8)\u001b[K\rremote: Compressing objects:  50% (4/8)\u001b[K\rremote: Compressing objects:  62% (5/8)\u001b[K\rremote: Compressing objects:  75% (6/8)\u001b[K\rremote: Compressing objects:  87% (7/8)\u001b[K\rremote: Compressing objects: 100% (8/8)\u001b[K\rremote: Compressing objects: 100% (8/8), done.\u001b[K\n",
            "Unpacking objects:   1% (1/65)   \rUnpacking objects:   3% (2/65)   \rUnpacking objects:   4% (3/65)   \rUnpacking objects:   6% (4/65)   \rUnpacking objects:   7% (5/65)   \rUnpacking objects:   9% (6/65)   \rUnpacking objects:  10% (7/65)   \rUnpacking objects:  12% (8/65)   \rUnpacking objects:  13% (9/65)   \rUnpacking objects:  15% (10/65)   \rUnpacking objects:  16% (11/65)   \rUnpacking objects:  18% (12/65)   \rUnpacking objects:  20% (13/65)   \rUnpacking objects:  21% (14/65)   \rUnpacking objects:  23% (15/65)   \rUnpacking objects:  24% (16/65)   \rUnpacking objects:  26% (17/65)   \rUnpacking objects:  27% (18/65)   \rUnpacking objects:  29% (19/65)   \rUnpacking objects:  30% (20/65)   \rremote: Total 65 (delta 6), reused 14 (delta 6), pack-reused 51\u001b[K\n",
            "Unpacking objects:  32% (21/65)   \rUnpacking objects:  33% (22/65)   \rUnpacking objects:  35% (23/65)   \rUnpacking objects:  36% (24/65)   \rUnpacking objects:  38% (25/65)   \rUnpacking objects:  40% (26/65)   \rUnpacking objects:  41% (27/65)   \rUnpacking objects:  43% (28/65)   \rUnpacking objects:  44% (29/65)   \rUnpacking objects:  46% (30/65)   \rUnpacking objects:  47% (31/65)   \rUnpacking objects:  49% (32/65)   \rUnpacking objects:  50% (33/65)   \rUnpacking objects:  52% (34/65)   \rUnpacking objects:  53% (35/65)   \rUnpacking objects:  55% (36/65)   \rUnpacking objects:  56% (37/65)   \rUnpacking objects:  58% (38/65)   \rUnpacking objects:  60% (39/65)   \rUnpacking objects:  61% (40/65)   \rUnpacking objects:  63% (41/65)   \rUnpacking objects:  64% (42/65)   \rUnpacking objects:  66% (43/65)   \rUnpacking objects:  67% (44/65)   \rUnpacking objects:  69% (45/65)   \rUnpacking objects:  70% (46/65)   \rUnpacking objects:  72% (47/65)   \rUnpacking objects:  73% (48/65)   \rUnpacking objects:  75% (49/65)   \rUnpacking objects:  76% (50/65)   \rUnpacking objects:  78% (51/65)   \rUnpacking objects:  80% (52/65)   \rUnpacking objects:  81% (53/65)   \rUnpacking objects:  83% (54/65)   \rUnpacking objects:  84% (55/65)   \rUnpacking objects:  86% (56/65)   \rUnpacking objects:  87% (57/65)   \rUnpacking objects:  89% (58/65)   \rUnpacking objects:  90% (59/65)   \rUnpacking objects:  92% (60/65)   \rUnpacking objects:  93% (61/65)   \rUnpacking objects:  95% (62/65)   \rUnpacking objects:  96% (63/65)   \rUnpacking objects:  98% (64/65)   \rUnpacking objects: 100% (65/65)   \rUnpacking objects: 100% (65/65), done.\n"
          ],
          "name": "stdout"
        }
      ]
    },
    {
      "cell_type": "code",
      "metadata": {
        "id": "zFbSU4rzH849",
        "colab_type": "code",
        "colab": {}
      },
      "source": [
        "# imports for pytorch\n",
        "import torch\n",
        "import torch.nn as nn\n"
      ],
      "execution_count": 0,
      "outputs": []
    },
    {
      "cell_type": "code",
      "metadata": {
        "id": "73-GfR1p7usv",
        "colab_type": "code",
        "colab": {}
      },
      "source": [
        "# classes for quadrotor state and dynamics\n",
        "class State():\n",
        "    def __init__(self, arr=np.empty(0)):\n",
        "        if len(arr) == 0:\n",
        "            self.arr = np.zeros((10,1), dtype=np.float64)\n",
        "            self.arr[3] = 1\n",
        "        else:\n",
        "            assert arr.shape == (10, 1)\n",
        "            if not arr.dtype == np.float64:\n",
        "              arr = np.array(arr, dtype=np.float64)\n",
        "            arr.dtype = np.float64\n",
        "            self.arr = arr\n",
        "\n",
        "    def __getitem__(self, position):\n",
        "        return self.arr[position]\n",
        "    def __str__(self):\n",
        "        s = 'p: ' + str(self.p.flatten()) + '\\nq: ' + self.q.__str__() + \\\n",
        "                '\\nv: ' + str(self.v.flatten())\n",
        "        s = s.replace('[ ', '[')\n",
        "        s = s.replace(', ', ' ')\n",
        "        s = s.replace(' ]', ']')\n",
        "        return s\n",
        "    def __repr__(self):\n",
        "        return self.__str__()\n",
        "    def __add__(self, other):\n",
        "        assert other.shape == (9, 1)\n",
        "        out = np.empty(self.arr.shape)\n",
        "        out[:3]  = self.p + other[:3]\n",
        "        out[3:7] = (self.q + other[3:6]).elements\n",
        "        out[7:]  = self.v + other[6:]\n",
        "        return State(out)\n",
        "    def __iadd__(self, other):\n",
        "        assert other.shape == (9, 1)\n",
        "        self.arr[:3] += other[:3]\n",
        "        self.arr[3:7] = (self.q + other[3:6]).elements\n",
        "        self.arr[7:] += other[6:]\n",
        "        return self\n",
        "    @property\n",
        "    def p(self):\n",
        "        return self.arr[:3]\n",
        "    @property\n",
        "    def q(self):\n",
        "        return Quat(self.arr[3:7])\n",
        "    @property\n",
        "    def v(self):\n",
        "        return self.arr[7:]\n",
        "    @property\n",
        "    def elements(self):\n",
        "        return self.arr.copy()\n",
        "    def copy(self):\n",
        "        return State(self.arr.copy())\n",
        "\n",
        "class Dynamics():\n",
        "    def __init__(self):\n",
        "        self.k1 = np.zeros((9,1))\n",
        "        self.k2 = np.zeros((9,1))\n",
        "        self.k3 = np.zeros((9,1))\n",
        "        self.k4 = np.zeros((9,1))\n",
        "        self.cd = 0.1\n",
        "        e_z = np.array([[0,0,1]]).T\n",
        "        self.g = 9.8065 * e_z\n",
        "        self.se = 0.5\n",
        "\n",
        "    def run(self, xu, dt):\n",
        "        x,u = State(xu[:10]), xu[10:]\n",
        "        self.k1 = self.f(x, u)\n",
        "        self.k2 = self.f(x + self.k1*(dt/2), u)\n",
        "        self.k3 = self.f(x + self.k2*(dt/2), u)\n",
        "        self.k4 = self.f(x + self.k3*dt, u)\n",
        "        # x += (self.k1 + 2*(self.k2 + self.k3) + self.k4) * (dt/6)\n",
        "        return x + (self.k1 + 2*(self.k2 + self.k3) + self.k4) * (dt/6)\n",
        "\n",
        "    def f(self, x, u):\n",
        "        s, w = u[0], u[1:]\n",
        "        dx = np.empty(self.k1.shape)\n",
        "        dx[:3] = x.q.rota(x.v)\n",
        "        dx[3:6] = w\n",
        "        dx[6:] = -self.g*(s/self.se) - self.cd*x.v + x.q.rotp(self.g) - \\\n",
        "                skew(w) @ x.v\n",
        "        return dx\n",
        "\n",
        "    @property\n",
        "    def state(self):\n",
        "        return self.x.copy()"
      ],
      "execution_count": 0,
      "outputs": []
    },
    {
      "cell_type": "code",
      "metadata": {
        "id": "oER-ve3bviM-",
        "colab_type": "code",
        "colab": {}
      },
      "source": [
        "class DataGenerator():\n",
        "  def __init__(self, num_states, num_inputs, batch_size=50):\n",
        "    self.n = num_states\n",
        "    self.m = num_inputs\n",
        "    self.batch_size = batch_size\n",
        "    self.pos_lim = 300\n",
        "    self.att_lim = np.pi\n",
        "    self.vel_lim = 10\n",
        "    self.rate_lim = 2*np.pi\n",
        "    self.s_lim = 1\n",
        "    self.dyn = Dynamics()\n",
        "\n",
        "  def getRandomInput(self):\n",
        "    xu = np.empty(self.n + self.m)\n",
        "    xu[:2] = np.random.uniform(-self.pos_lim, self.pos_lim, 2)\n",
        "    xu[2] = np.random.uniform(-self.pos_lim, 0)\n",
        "    mask = np.random.uniform(size=3) > 0.2\n",
        "    euler = np.random.uniform(-self.att_lim, self.att_lim, 3) * mask\n",
        "    xu[3:7] = Quat.from_euler(*euler).elements.flatten()\n",
        "    xu[7:10] = np.random.uniform(-self.vel_lim, self.vel_lim, 3)\n",
        "    xu[10] = np.random.uniform(0, self.s_lim)\n",
        "    xu[11:] = np.random.uniform(-self.rate_lim, self.rate_lim, 3)\n",
        "    return xu\n",
        "\n",
        "  def getBatch(self):\n",
        "    batch_in = np.empty((self.batch_size, self.n+self.m))\n",
        "    batch_out = np.empty((self.batch_size, self.n))\n",
        "    for i in range(self.batch_size):\n",
        "      batch_in[i] = self.getRandomInput()\n",
        "      # set_trace()\n",
        "      batch_out[i] = self.dyn.run(batch_in[i].reshape(-1,1), 0.01).elements.flatten()\n",
        "    return batch_in, batch_out"
      ],
      "execution_count": 0,
      "outputs": []
    },
    {
      "cell_type": "code",
      "metadata": {
        "id": "P4SMzucDAkn5",
        "colab_type": "code",
        "outputId": "7dac9f65-8867-4020-cfff-685aa88940d1",
        "colab": {
          "base_uri": "https://localhost:8080/",
          "height": 413
        }
      },
      "source": [
        "def testGen():\n",
        "  data_gen = DataGenerator(10,4,batch_size=2)\n",
        "  ran = data_gen.getRandomInput()\n",
        "  print('rand: ', ran)\n",
        "\n",
        "  x, truth = data_gen.getBatch()\n",
        "  print('x: \\n', x)\n",
        "  print('truth: \\n', truth)\n",
        "\n",
        "  dyn = Dynamics()\n",
        "  for i, state in enumerate(x):\n",
        "    state = state.reshape(-1,1)\n",
        "    out = dyn.run(state, 0.01).elements.flatten()\n",
        "    error = out - truth[i]\n",
        "    norm = np.sqrt(error @ error)\n",
        "    print('norm: ', norm)\n",
        "\n",
        "testGen()"
      ],
      "execution_count": 7,
      "outputs": [
        {
          "output_type": "stream",
          "text": [
            "rand:  [-2.37376877e+02 -2.33592496e+02 -2.40692200e+02  1.82575767e-01\n",
            " -7.12876906e-01  6.72179964e-01 -8.15273053e-02 -9.93346121e+00\n",
            " -1.79908616e-01 -9.00031686e+00  2.28967991e-01 -4.78940293e+00\n",
            "  2.44998240e+00  3.26534699e+00]\n",
            "x: \n",
            " [[-2.99883248e+02 -2.64677063e+02 -2.33598845e+02  6.96834736e-01\n",
            "  -1.28217208e-01  6.93678477e-01  1.29583443e-01 -3.45969480e+00\n",
            "  -6.42226660e+00  8.51704652e+00  3.73301944e-01 -4.22368776e+00\n",
            "  -3.61069116e+00 -5.75473210e+00]\n",
            " [ 2.12280722e+02 -1.26793447e+02 -2.42394608e+02  8.78024204e-01\n",
            "   2.93601413e-01 -3.04814016e-01 -2.23517614e-01  6.92765883e+00\n",
            "  -2.85759238e+00  4.79175559e+00  7.68715272e-01  3.96231051e+00\n",
            "   4.73566946e+00  5.02678594e+00]]\n",
            "truth: \n",
            " [[-2.99781247e+02 -2.64706702e+02 -2.33563447e+02  7.09817924e-01\n",
            "  -1.60442339e-01  6.74122578e-01  1.26394308e-01 -2.86623677e+00\n",
            "  -6.95508759e+00  8.26925267e+00]\n",
            " [ 2.12292654e+02 -1.26871669e+02 -2.42354506e+02  8.84345330e-01\n",
            "   3.08391190e-01 -2.95592301e-01 -1.88290740e-01  6.57989818e+00\n",
            "  -2.93342596e+00  5.13337595e+00]]\n",
            "norm:  0.0\n",
            "norm:  0.0\n"
          ],
          "name": "stdout"
        }
      ]
    },
    {
      "cell_type": "code",
      "metadata": {
        "id": "4XvwSOVc3-Sy",
        "colab_type": "code",
        "outputId": "9a84211e-3e45-4c8e-f6b3-986090db7be5",
        "colab": {
          "base_uri": "https://localhost:8080/",
          "height": 53
        }
      },
      "source": [
        "def testLinearSize():\n",
        "  inputs = 14\n",
        "  outputs = 10\n",
        "  batch = 1\n",
        "  x_test = torch.zeros(batch,inputs)\n",
        "  up = nn.Linear(inputs, 50)\n",
        "  up_test = up(x_test)\n",
        "  print('up: ', up_test.size())\n",
        "\n",
        "  down = nn.Linear(50, outputs)\n",
        "  down_test = down(up_test)\n",
        "  print('down: ', down_test.size())\n",
        "\n",
        "testLinearSize()"
      ],
      "execution_count": 8,
      "outputs": [
        {
          "output_type": "stream",
          "text": [
            "up:  torch.Size([1, 50])\n",
            "down:  torch.Size([1, 10])\n"
          ],
          "name": "stdout"
        }
      ]
    },
    {
      "cell_type": "code",
      "metadata": {
        "id": "h9EXL6hvwr08",
        "colab_type": "code",
        "colab": {}
      },
      "source": [
        "from IPython.core.debugger import set_trace\n",
        "class ResBlock(nn.Module):\n",
        "  def __init__(self, dim_in, dim_out, skip=False):\n",
        "    super(ResBlock, self).__init__()\n",
        "    self.skip = skip\n",
        "    self.activation = nn.ReLU()\n",
        "    self.layer1 = nn.Linear(dim_in, dim_in)\n",
        "    self.layer2 = nn.Linear(dim_in, dim_in)\n",
        "    self.layer3 = nn.Linear(dim_in, dim_out)\n",
        "\n",
        "  def forward(self, x):\n",
        "    out1 = self.activation(self.layer1(x))\n",
        "    out2 = self.layer2(out1)\n",
        "    skip = self.activation(out2 + out1)\n",
        "    out3 = self.activation(self.layer3(skip))\n",
        "    if self.skip:\n",
        "      return skip, out3\n",
        "    else:\n",
        "      return out3\n",
        "\n",
        "class DynamicsNN(nn.Module):\n",
        "  def __init__(self, num_states, num_inputs):\n",
        "    super(DynamicsNN, self).__init__()\n",
        "    self.up1 = nn.Linear(num_states+num_inputs, 50)\n",
        "    self.up2 = ResBlock(50,  100, skip=True)\n",
        "    self.up3 = ResBlock(100, 200, skip=True)\n",
        "    # self.up4 = ResBlock(200, 400, skip=True)\n",
        "    self.dn1 = ResBlock(200, 100)\n",
        "    self.dn2 = ResBlock(100, 50)\n",
        "    self.dn3 = ResBlock(50,  num_states)\n",
        "    # self.dn4 = ResBlock(50, num_states)\n",
        "\n",
        "  def forward(self, x):\n",
        "    # set_trace()\n",
        "    up1 = self.up1(x)\n",
        "    skip1, up2 = self.up2(up1)\n",
        "    skip2, up3 = self.up3(up2)\n",
        "    down1 = self.dn1(up3)\n",
        "    down2 = self.dn2(skip2 + down1)\n",
        "    out = self.dn3(skip1 + down2)\n",
        "    out[:,3:7] /= torch.norm(out[:,3:7], dim=1)\n",
        "    mask = (out[:,3] < 0).squeeze()\n",
        "    out[mask,3:7] *= -1\n",
        "    return out"
      ],
      "execution_count": 0,
      "outputs": []
    },
    {
      "cell_type": "code",
      "metadata": {
        "id": "tV0Mc_4YUWlt",
        "colab_type": "code",
        "outputId": "e4679bb8-65c1-409b-c512-5e57e869b06e",
        "colab": {
          "base_uri": "https://localhost:8080/",
          "height": 107
        }
      },
      "source": [
        "def testNet():\n",
        "  n = 10\n",
        "  m = 4\n",
        "  x_test = torch.randn(1,n+m)\n",
        "  print('x_test: ', x_test)\n",
        "  net = DynamicsNN(n,m)\n",
        "  test = net(x_test)\n",
        "  print('shape: ', test.shape)\n",
        "  print('output: ', test)\n",
        "\n",
        "testNet()"
      ],
      "execution_count": 20,
      "outputs": [
        {
          "output_type": "stream",
          "text": [
            "x_test:  tensor([[-1.5526, -0.5519, -0.3450, -2.1592, -1.4334, -0.5845, -1.5252, -0.2106,\n",
            "         -1.3286, -0.5176,  0.7229,  0.2374, -0.5309,  0.0791]])\n",
            "shape:  torch.Size([1, 10])\n",
            "output:  tensor([[0.0000, 0.0000, 0.0000, 0.0000, 0.4420, 0.0000, 0.8970, 0.0727, 0.0386,\n",
            "         0.0000]], grad_fn=<CopySlices>)\n"
          ],
          "name": "stdout"
        }
      ]
    }
  ]
}