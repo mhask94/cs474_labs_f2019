{
  "nbformat": 4,
  "nbformat_minor": 0,
  "metadata": {
    "kernelspec": {
      "display_name": "Python 3",
      "language": "python",
      "name": "python3"
    },
    "language_info": {
      "codemirror_mode": {
        "name": "ipython",
        "version": 3
      },
      "file_extension": ".py",
      "mimetype": "text/x-python",
      "name": "python",
      "nbconvert_exporter": "python",
      "pygments_lexer": "ipython3",
      "version": "3.6.8"
    },
    "colab": {
      "name": "Final_Project.ipynb",
      "provenance": []
    }
  },
  "cells": [
    {
      "cell_type": "code",
      "metadata": {
        "id": "mkpLgBkLMSCk",
        "colab_type": "code",
        "colab": {
          "base_uri": "https://localhost:8080/",
          "height": 35
        },
        "outputId": "f12932ed-aa72-4f28-8f98-59deb2f34595"
      },
      "source": [
        "# imports for training data\n",
        "!if ( ! ls . | grep pytransform ); then git clone https://github.com/mhask94/pytransform.git; fi\n",
        "# !git clone https://github.com/mhask94/pytransform.git\n",
        "from pytransform.common import skew\n",
        "from pytransform.quaternion import Quaternion as Quat\n",
        "import numpy as np"
      ],
      "execution_count": 13,
      "outputs": [
        {
          "output_type": "stream",
          "text": [
            "pytransform\n"
          ],
          "name": "stdout"
        }
      ]
    },
    {
      "cell_type": "code",
      "metadata": {
        "id": "zFbSU4rzH849",
        "colab_type": "code",
        "colab": {}
      },
      "source": [
        "# imports for pytorch\n",
        "import torch\n",
        "import torch.nn as nn"
      ],
      "execution_count": 0,
      "outputs": []
    },
    {
      "cell_type": "code",
      "metadata": {
        "id": "73-GfR1p7usv",
        "colab_type": "code",
        "colab": {}
      },
      "source": [
        "# classes for quadrotor state and dynamics\n",
        "class State():\n",
        "    def __init__(self, arr=np.empty(0)):\n",
        "        if len(arr) == 0:\n",
        "            self.arr = np.zeros((10,1), dtype=np.float64)\n",
        "            self.arr[3] = 1\n",
        "        else:\n",
        "            assert arr.shape == (10, 1)\n",
        "            if not arr.dtype == np.float64:\n",
        "              arr = np.array(arr, dtype=np.float64)\n",
        "            arr.dtype = np.float64\n",
        "            self.arr = arr\n",
        "\n",
        "    def __getitem__(self, position):\n",
        "        return self.arr[position]\n",
        "    def __str__(self):\n",
        "        s = 'p: ' + str(self.p.flatten()) + '\\nq: ' + self.q.__str__() + \\\n",
        "                '\\nv: ' + str(self.v.flatten())\n",
        "        s = s.replace('[ ', '[')\n",
        "        s = s.replace(', ', ' ')\n",
        "        s = s.replace(' ]', ']')\n",
        "        return s\n",
        "    def __repr__(self):\n",
        "        return self.__str__()\n",
        "    def __add__(self, other):\n",
        "        assert other.shape == (9, 1)\n",
        "        out = np.empty(self.arr.shape)\n",
        "        out[:3]  = self.p + other[:3]\n",
        "        out[3:7] = (self.q + other[3:6]).elements\n",
        "        out[7:]  = self.v + other[6:]\n",
        "        return State(out)\n",
        "    def __iadd__(self, other):\n",
        "        assert other.shape == (9, 1)\n",
        "        self.arr[:3] += other[:3]\n",
        "        self.arr[3:7] = (self.q + other[3:6]).elements\n",
        "        self.arr[7:] += other[6:]\n",
        "        return self\n",
        "    def __sub__(self, other):\n",
        "        assert isinstance(other, State)\n",
        "        dx = np.empty((9,1))\n",
        "        dx[:3]  = self.p - other.p\n",
        "        dx[3:6] = self.q - other.q\n",
        "        dx[6:]  = self.v - other.v\n",
        "        return dx\n",
        "    @property\n",
        "    def p(self):\n",
        "        return self.arr[:3]\n",
        "    @property\n",
        "    def q(self):\n",
        "        return Quat(self.arr[3:7])\n",
        "    @property\n",
        "    def v(self):\n",
        "        return self.arr[7:]\n",
        "    @property\n",
        "    def elements(self):\n",
        "        return self.arr\n",
        "    @property\n",
        "    def X(self):\n",
        "        return Xform(self.arr[:7])\n",
        "    def copy(self):\n",
        "        return State(self.arr.copy())\n",
        "\n",
        "class Dynamics():\n",
        "    def __init__(self, x0=np.empty(0)):\n",
        "        self.x = State(x0)\n",
        "        self.k1 = np.zeros((9,1))\n",
        "        self.k2 = np.zeros((9,1))\n",
        "        self.k3 = np.zeros((9,1))\n",
        "        self.k4 = np.zeros((9,1))\n",
        "        self.cd = 0.1\n",
        "        e_z = np.array([[0,0,1]]).T\n",
        "        self.g = 9.8065 * e_z\n",
        "        self.se = 0.5\n",
        "\n",
        "    def run(self, u, dt):\n",
        "        self.k1 = self.f(self.x, u)\n",
        "        self.k2 = self.f(self.x + self.k1*(dt/2), u)\n",
        "        self.k3 = self.f(self.x + self.k2*(dt/2), u)\n",
        "        self.k4 = self.f(self.x + self.k3*dt, u)\n",
        "        self.x += (self.k1 + 2*(self.k2 + self.k3) + self.k4) * (dt/6)\n",
        "\n",
        "    def f(self, x, u):\n",
        "        s, w = u[0], u[1:]\n",
        "\n",
        "        dx = np.empty(self.k1.shape)\n",
        "        dx[:3] = x.q.rota(x.v)\n",
        "        dx[3:6] = w\n",
        "        dx[6:] = -self.g*(s/self.se) - self.cd*x.v + x.q.rotp(self.g) - \\\n",
        "                skew(w) @ x.v\n",
        "        return dx\n",
        "\n",
        "    @property\n",
        "    def state(self):\n",
        "        return self.x\n"
      ],
      "execution_count": 0,
      "outputs": []
    },
    {
      "cell_type": "code",
      "metadata": {
        "id": "P4SMzucDAkn5",
        "colab_type": "code",
        "colab": {
          "base_uri": "https://localhost:8080/",
          "height": 71
        },
        "outputId": "2da880be-064f-4768-9577-1634f19b1eaf"
      },
      "source": [
        "x = State()\n",
        "dx = np.array([[1,2,3,0.1,0,0,.1,.2,.3]]).T\n",
        "\n",
        "y = x + dx\n",
        "print(y)"
      ],
      "execution_count": 5,
      "outputs": [
        {
          "output_type": "stream",
          "text": [
            "p: [1. 2. 3.]\n",
            "q: [0.9987502603949663 0.04997916927067834i 0.0j 0.0k]\n",
            "v: [0.1 0.2 0.3]\n"
          ],
          "name": "stdout"
        }
      ]
    },
    {
      "cell_type": "code",
      "metadata": {
        "id": "MbcNTfN1A7fv",
        "colab_type": "code",
        "colab": {
          "base_uri": "https://localhost:8080/",
          "height": 53
        },
        "outputId": "2a6a9c30-2fca-4c4d-ccb5-404366d39d93"
      },
      "source": [
        "def testConvTransposeSize():\n",
        "  x_test = torch.zeros(1,1,10,1)\n",
        "  up = nn.ConvTranspose2d(1, 1, (2,20), padding=0, stride=2)\n",
        "  up_test = up(x_test)\n",
        "  print('up: ', up_test.size())\n",
        "\n",
        "  down = nn.Conv2d(1,1, (2,20), padding=0, stride=2)\n",
        "  down_test = down(up_test)\n",
        "  print('down: ', down_test.size())\n",
        "\n",
        "testConvTransposeSize()"
      ],
      "execution_count": 16,
      "outputs": [
        {
          "output_type": "stream",
          "text": [
            "up:  torch.Size([1, 1, 20, 20])\n",
            "down:  torch.Size([1, 1, 10, 1])\n"
          ],
          "name": "stdout"
        }
      ]
    },
    {
      "cell_type": "code",
      "metadata": {
        "id": "h9EXL6hvwr08",
        "colab_type": "code",
        "colab": {}
      },
      "source": [
        "class UBlock(nn.Module):\n",
        "  def __init__(self, c_in, c_out, after='none'):\n",
        "    super(UBlock, self).__init__()\n",
        "    self.main_net = nn.Sequential(\n",
        "        nn.Conv2d(c_in, c_out, kernel=(3,3), padding=(1,1)),\n",
        "        nn.ReLU(),\n",
        "        nn.Conv2d(c_out, c_out, kernel=(3,3), padding=(1,1)),\n",
        "        nn.ReLU,\n",
        "    )\n",
        "    self.after = after\n",
        "    if after == 'up':\n",
        "      self.after_net = nn.ConvTranspose2d(c_out, c_out//2, (2,2), padding=0, stride=2)\n",
        "    elif after == 'down':\n",
        "      self.after_net = nn.Conv2d(c_out, c_out, kernel=(3,3), padding=(1,1), stride=2)\n",
        "    elif after == 'end':\n",
        "      self.after_net = nn.Conv2d(c_out, 1, (1,1), padding=0)\n",
        "    else: # none\n",
        "      self.after_net = None\n",
        "\n",
        "  def forward(self, x):\n",
        "    main_out = self.main_net(x).squeeze(2).squeeze(2)\n",
        "    after_out = self.after_net(main_out).squeeze(2).squeeze(2)\n",
        "    if self.after == 'up':\n",
        "      return main_out, after_out\n",
        "    else:\n",
        "      return after_out\n",
        "\n",
        "class DynamicsNN(nn.Module):\n",
        "  def __init__(self):\n",
        "    super(DynamicsNN, self).__init__()\n",
        "    self.beg = nn.ConvTranspose2d(1, 1, (2,20), padding=0, stride=2)\n",
        "    self.up1 = UBlock(1, 512, after='up')\n",
        "    self.up2 = UBlock(256, 256, after='up')\n",
        "    self.up3 = UBlock(128, 128, after='up')\n",
        "    self.up4 = UBlock(64, 64, after='up')\n"
      ],
      "execution_count": 0,
      "outputs": []
    }
  ]
}